{
  "nbformat": 4,
  "nbformat_minor": 0,
  "metadata": {
    "colab": {
      "name": "Stage.ipynb",
      "provenance": [],
      "collapsed_sections": [],
      "authorship_tag": "ABX9TyOZ1J1aZyTr4BhwIRgGXaaJ",
      "include_colab_link": true
    },
    "kernelspec": {
      "name": "python3",
      "display_name": "Python 3"
    },
    "language_info": {
      "name": "python"
    }
  },
  "cells": [
    {
      "cell_type": "markdown",
      "metadata": {
        "id": "view-in-github",
        "colab_type": "text"
      },
      "source": [
        "<a href=\"https://colab.research.google.com/github/freezer2019/Analytics/blob/main/Stage.ipynb\" target=\"_parent\"><img src=\"https://colab.research.google.com/assets/colab-badge.svg\" alt=\"Open In Colab\"/></a>"
      ]
    },
    {
      "cell_type": "code",
      "metadata": {
        "id": "HtTI2v-KVf3o",
        "colab": {
          "base_uri": "https://localhost:8080/"
        },
        "outputId": "b32a0ef4-cb0c-47c4-c106-98a5c96b6084"
      },
      "source": [
        "pip install geemap"
      ],
      "execution_count": null,
      "outputs": [
        {
          "output_type": "stream",
          "text": [
            "Requirement already satisfied: geemap in /usr/local/lib/python3.7/dist-packages (0.8.17)\n",
            "Requirement already satisfied: pandas in /usr/local/lib/python3.7/dist-packages (from geemap) (1.1.5)\n",
            "Requirement already satisfied: googledrivedownloader in /usr/local/lib/python3.7/dist-packages (from geemap) (0.4)\n",
            "Requirement already satisfied: ipyleaflet>=0.14.0 in /usr/local/lib/python3.7/dist-packages (from geemap) (0.14.0)\n",
            "Requirement already satisfied: numpy in /usr/local/lib/python3.7/dist-packages (from geemap) (1.19.5)\n",
            "Requirement already satisfied: ipyfilechooser in /usr/local/lib/python3.7/dist-packages (from geemap) (0.4.3)\n",
            "Requirement already satisfied: pycrs in /usr/local/lib/python3.7/dist-packages (from geemap) (1.0.2)\n",
            "Requirement already satisfied: voila in /usr/local/lib/python3.7/dist-packages (from geemap) (0.2.10)\n",
            "Requirement already satisfied: folium>=0.11.0 in /usr/local/lib/python3.7/dist-packages (from geemap) (0.12.1)\n",
            "Requirement already satisfied: ipytree in /usr/local/lib/python3.7/dist-packages (from geemap) (0.2.1)\n",
            "Requirement already satisfied: pillow in /usr/local/lib/python3.7/dist-packages (from geemap) (7.1.2)\n",
            "Requirement already satisfied: geeadd>=0.5.1 in /usr/local/lib/python3.7/dist-packages (from geemap) (0.5.5)\n",
            "Requirement already satisfied: pyshp>=2.1.3 in /usr/local/lib/python3.7/dist-packages (from geemap) (2.1.3)\n",
            "Requirement already satisfied: colour in /usr/local/lib/python3.7/dist-packages (from geemap) (0.1.5)\n",
            "Requirement already satisfied: python-box in /usr/local/lib/python3.7/dist-packages (from geemap) (5.3.0)\n",
            "Requirement already satisfied: earthengine-api>=0.1.230 in /usr/local/lib/python3.7/dist-packages (from geemap) (0.1.269)\n",
            "Requirement already satisfied: mss in /usr/local/lib/python3.7/dist-packages (from geemap) (6.1.0)\n",
            "Requirement already satisfied: geocoder in /usr/local/lib/python3.7/dist-packages (from geemap) (1.38.1)\n",
            "Requirement already satisfied: ffmpeg-python in /usr/local/lib/python3.7/dist-packages (from geemap) (0.2.0)\n",
            "Requirement already satisfied: whiteboxgui in /usr/local/lib/python3.7/dist-packages (from geemap) (0.3.0)\n",
            "Requirement already satisfied: sankee in /usr/local/lib/python3.7/dist-packages (from geemap) (0.0.5)\n",
            "Requirement already satisfied: bqplot in /usr/local/lib/python3.7/dist-packages (from geemap) (0.12.29)\n",
            "Requirement already satisfied: click in /usr/local/lib/python3.7/dist-packages (from geemap) (7.1.2)\n",
            "Requirement already satisfied: matplotlib in /usr/local/lib/python3.7/dist-packages (from geemap) (3.2.2)\n",
            "Requirement already satisfied: ipyevents in /usr/local/lib/python3.7/dist-packages (from geemap) (0.8.2)\n",
            "Requirement already satisfied: ipynb-py-convert in /usr/local/lib/python3.7/dist-packages (from geemap) (0.4.6)\n",
            "Requirement already satisfied: pytz>=2017.2 in /usr/local/lib/python3.7/dist-packages (from pandas->geemap) (2018.9)\n",
            "Requirement already satisfied: python-dateutil>=2.7.3 in /usr/local/lib/python3.7/dist-packages (from pandas->geemap) (2.8.1)\n",
            "Requirement already satisfied: traittypes<3,>=0.2.1 in /usr/local/lib/python3.7/dist-packages (from ipyleaflet>=0.14.0->geemap) (0.2.1)\n",
            "Requirement already satisfied: ipywidgets<8,>=7.6.0 in /usr/local/lib/python3.7/dist-packages (from ipyleaflet>=0.14.0->geemap) (7.6.3)\n",
            "Requirement already satisfied: jupyter-client<7,>=6.1.3 in /usr/local/lib/python3.7/dist-packages (from voila->geemap) (6.1.12)\n",
            "Requirement already satisfied: nbconvert<7,>=6.0.0 in /usr/local/lib/python3.7/dist-packages (from voila->geemap) (6.0.7)\n",
            "Requirement already satisfied: nbclient<0.6,>=0.4.0 in /usr/local/lib/python3.7/dist-packages (from voila->geemap) (0.5.3)\n",
            "Requirement already satisfied: jupyter-server<2.0.0,>=0.3.0 in /usr/local/lib/python3.7/dist-packages (from voila->geemap) (1.8.0)\n",
            "Requirement already satisfied: branca>=0.3.0 in /usr/local/lib/python3.7/dist-packages (from folium>=0.11.0->geemap) (0.4.2)\n",
            "Requirement already satisfied: jinja2>=2.9 in /usr/local/lib/python3.7/dist-packages (from folium>=0.11.0->geemap) (2.11.3)\n",
            "Requirement already satisfied: requests in /usr/local/lib/python3.7/dist-packages (from folium>=0.11.0->geemap) (2.23.0)\n",
            "Requirement already satisfied: beautifulsoup4>=4.9.0 in /usr/local/lib/python3.7/dist-packages (from geeadd>=0.5.1->geemap) (4.9.3)\n",
            "Requirement already satisfied: logzero>=1.5.0 in /usr/local/lib/python3.7/dist-packages (from geeadd>=0.5.1->geemap) (1.7.0)\n",
            "Requirement already satisfied: google-api-python-client<2,>=1.12.1 in /usr/local/lib/python3.7/dist-packages (from earthengine-api>=0.1.230->geemap) (1.12.8)\n",
            "Requirement already satisfied: httplib2shim in /usr/local/lib/python3.7/dist-packages (from earthengine-api>=0.1.230->geemap) (0.0.3)\n",
            "Requirement already satisfied: google-cloud-storage in /usr/local/lib/python3.7/dist-packages (from earthengine-api>=0.1.230->geemap) (1.18.1)\n",
            "Requirement already satisfied: google-auth-httplib2>=0.0.3 in /usr/local/lib/python3.7/dist-packages (from earthengine-api>=0.1.230->geemap) (0.0.4)\n",
            "Requirement already satisfied: google-auth>=1.4.1 in /usr/local/lib/python3.7/dist-packages (from earthengine-api>=0.1.230->geemap) (1.31.0)\n",
            "Requirement already satisfied: future in /usr/local/lib/python3.7/dist-packages (from earthengine-api>=0.1.230->geemap) (0.16.0)\n",
            "Requirement already satisfied: six in /usr/local/lib/python3.7/dist-packages (from earthengine-api>=0.1.230->geemap) (1.15.0)\n",
            "Requirement already satisfied: httplib2<1dev,>=0.9.2 in /usr/local/lib/python3.7/dist-packages (from earthengine-api>=0.1.230->geemap) (0.17.4)\n",
            "Requirement already satisfied: ratelim in /usr/local/lib/python3.7/dist-packages (from geocoder->geemap) (0.1.6)\n",
            "Requirement already satisfied: whitebox in /usr/local/lib/python3.7/dist-packages (from whiteboxgui->geemap) (1.5.1)\n",
            "Requirement already satisfied: nbformat>=4.2.0 in /usr/local/lib/python3.7/dist-packages (from sankee->geemap) (5.1.3)\n",
            "Requirement already satisfied: ipykernel in /usr/local/lib/python3.7/dist-packages (from sankee->geemap) (4.10.1)\n",
            "Requirement already satisfied: plotly in /usr/local/lib/python3.7/dist-packages (from sankee->geemap) (4.4.1)\n",
            "Requirement already satisfied: traitlets>=4.3.0 in /usr/local/lib/python3.7/dist-packages (from bqplot->geemap) (5.0.5)\n",
            "Requirement already satisfied: kiwisolver>=1.0.1 in /usr/local/lib/python3.7/dist-packages (from matplotlib->geemap) (1.3.1)\n",
            "Requirement already satisfied: cycler>=0.10 in /usr/local/lib/python3.7/dist-packages (from matplotlib->geemap) (0.10.0)\n",
            "Requirement already satisfied: pyparsing!=2.0.4,!=2.1.2,!=2.1.6,>=2.0.1 in /usr/local/lib/python3.7/dist-packages (from matplotlib->geemap) (2.4.7)\n",
            "Requirement already satisfied: ipython>=4.0.0; python_version >= \"3.3\" in /usr/local/lib/python3.7/dist-packages (from ipywidgets<8,>=7.6.0->ipyleaflet>=0.14.0->geemap) (5.5.0)\n",
            "Requirement already satisfied: widgetsnbextension~=3.5.0 in /usr/local/lib/python3.7/dist-packages (from ipywidgets<8,>=7.6.0->ipyleaflet>=0.14.0->geemap) (3.5.1)\n",
            "Requirement already satisfied: jupyterlab-widgets>=1.0.0; python_version >= \"3.6\" in /usr/local/lib/python3.7/dist-packages (from ipywidgets<8,>=7.6.0->ipyleaflet>=0.14.0->geemap) (1.0.0)\n",
            "Requirement already satisfied: jupyter-core>=4.6.0 in /usr/local/lib/python3.7/dist-packages (from jupyter-client<7,>=6.1.3->voila->geemap) (4.7.1)\n",
            "Requirement already satisfied: pyzmq>=13 in /usr/local/lib/python3.7/dist-packages (from jupyter-client<7,>=6.1.3->voila->geemap) (22.1.0)\n",
            "Requirement already satisfied: tornado>=4.1 in /usr/local/lib/python3.7/dist-packages (from jupyter-client<7,>=6.1.3->voila->geemap) (5.1.1)\n",
            "Requirement already satisfied: bleach in /usr/local/lib/python3.7/dist-packages (from nbconvert<7,>=6.0.0->voila->geemap) (3.3.0)\n",
            "Requirement already satisfied: entrypoints>=0.2.2 in /usr/local/lib/python3.7/dist-packages (from nbconvert<7,>=6.0.0->voila->geemap) (0.3)\n",
            "Requirement already satisfied: jupyterlab-pygments in /usr/local/lib/python3.7/dist-packages (from nbconvert<7,>=6.0.0->voila->geemap) (0.1.2)\n",
            "Requirement already satisfied: pandocfilters>=1.4.1 in /usr/local/lib/python3.7/dist-packages (from nbconvert<7,>=6.0.0->voila->geemap) (1.4.3)\n",
            "Requirement already satisfied: testpath in /usr/local/lib/python3.7/dist-packages (from nbconvert<7,>=6.0.0->voila->geemap) (0.5.0)\n",
            "Requirement already satisfied: defusedxml in /usr/local/lib/python3.7/dist-packages (from nbconvert<7,>=6.0.0->voila->geemap) (0.7.1)\n",
            "Requirement already satisfied: pygments>=2.4.1 in /usr/local/lib/python3.7/dist-packages (from nbconvert<7,>=6.0.0->voila->geemap) (2.6.1)\n",
            "Requirement already satisfied: mistune<2,>=0.8.1 in /usr/local/lib/python3.7/dist-packages (from nbconvert<7,>=6.0.0->voila->geemap) (0.8.4)\n",
            "Requirement already satisfied: async-generator in /usr/local/lib/python3.7/dist-packages (from nbclient<0.6,>=0.4.0->voila->geemap) (1.10)\n",
            "Requirement already satisfied: nest-asyncio in /usr/local/lib/python3.7/dist-packages (from nbclient<0.6,>=0.4.0->voila->geemap) (1.5.1)\n",
            "Requirement already satisfied: websocket-client in /usr/local/lib/python3.7/dist-packages (from jupyter-server<2.0.0,>=0.3.0->voila->geemap) (1.1.0)\n",
            "Requirement already satisfied: argon2-cffi in /usr/local/lib/python3.7/dist-packages (from jupyter-server<2.0.0,>=0.3.0->voila->geemap) (20.1.0)\n",
            "Requirement already satisfied: terminado>=0.8.3 in /usr/local/lib/python3.7/dist-packages (from jupyter-server<2.0.0,>=0.3.0->voila->geemap) (0.10.1)\n",
            "Requirement already satisfied: prometheus-client in /usr/local/lib/python3.7/dist-packages (from jupyter-server<2.0.0,>=0.3.0->voila->geemap) (0.11.0)\n",
            "Requirement already satisfied: Send2Trash in /usr/local/lib/python3.7/dist-packages (from jupyter-server<2.0.0,>=0.3.0->voila->geemap) (1.5.0)\n",
            "Requirement already satisfied: anyio<4,>=3.1.0 in /usr/local/lib/python3.7/dist-packages (from jupyter-server<2.0.0,>=0.3.0->voila->geemap) (3.2.0)\n",
            "Requirement already satisfied: ipython-genutils in /usr/local/lib/python3.7/dist-packages (from jupyter-server<2.0.0,>=0.3.0->voila->geemap) (0.2.0)\n",
            "Requirement already satisfied: MarkupSafe>=0.23 in /usr/local/lib/python3.7/dist-packages (from jinja2>=2.9->folium>=0.11.0->geemap) (2.0.1)\n",
            "Requirement already satisfied: idna<3,>=2.5 in /usr/local/lib/python3.7/dist-packages (from requests->folium>=0.11.0->geemap) (2.10)\n",
            "Requirement already satisfied: certifi>=2017.4.17 in /usr/local/lib/python3.7/dist-packages (from requests->folium>=0.11.0->geemap) (2021.5.30)\n",
            "Requirement already satisfied: urllib3!=1.25.0,!=1.25.1,<1.26,>=1.21.1 in /usr/local/lib/python3.7/dist-packages (from requests->folium>=0.11.0->geemap) (1.24.3)\n",
            "Requirement already satisfied: chardet<4,>=3.0.2 in /usr/local/lib/python3.7/dist-packages (from requests->folium>=0.11.0->geemap) (3.0.4)\n",
            "Requirement already satisfied: soupsieve>1.2; python_version >= \"3.0\" in /usr/local/lib/python3.7/dist-packages (from beautifulsoup4>=4.9.0->geeadd>=0.5.1->geemap) (2.2.1)\n",
            "Requirement already satisfied: uritemplate<4dev,>=3.0.0 in /usr/local/lib/python3.7/dist-packages (from google-api-python-client<2,>=1.12.1->earthengine-api>=0.1.230->geemap) (3.0.1)\n",
            "Requirement already satisfied: google-api-core<2dev,>=1.21.0 in /usr/local/lib/python3.7/dist-packages (from google-api-python-client<2,>=1.12.1->earthengine-api>=0.1.230->geemap) (1.26.3)\n",
            "Requirement already satisfied: google-resumable-media<0.5.0dev,>=0.3.1 in /usr/local/lib/python3.7/dist-packages (from google-cloud-storage->earthengine-api>=0.1.230->geemap) (0.4.1)\n",
            "Requirement already satisfied: google-cloud-core<2.0dev,>=1.0.0 in /usr/local/lib/python3.7/dist-packages (from google-cloud-storage->earthengine-api>=0.1.230->geemap) (1.0.3)\n",
            "Requirement already satisfied: rsa<5,>=3.1.4; python_version >= \"3.6\" in /usr/local/lib/python3.7/dist-packages (from google-auth>=1.4.1->earthengine-api>=0.1.230->geemap) (4.7.2)\n",
            "Requirement already satisfied: cachetools<5.0,>=2.0.0 in /usr/local/lib/python3.7/dist-packages (from google-auth>=1.4.1->earthengine-api>=0.1.230->geemap) (4.2.2)\n",
            "Requirement already satisfied: setuptools>=40.3.0 in /usr/local/lib/python3.7/dist-packages (from google-auth>=1.4.1->earthengine-api>=0.1.230->geemap) (57.0.0)\n",
            "Requirement already satisfied: pyasn1-modules>=0.2.1 in /usr/local/lib/python3.7/dist-packages (from google-auth>=1.4.1->earthengine-api>=0.1.230->geemap) (0.2.8)\n",
            "Requirement already satisfied: decorator in /usr/local/lib/python3.7/dist-packages (from ratelim->geocoder->geemap) (4.4.2)\n",
            "Requirement already satisfied: jsonschema!=2.5.0,>=2.4 in /usr/local/lib/python3.7/dist-packages (from nbformat>=4.2.0->sankee->geemap) (2.6.0)\n",
            "Requirement already satisfied: retrying>=1.3.3 in /usr/local/lib/python3.7/dist-packages (from plotly->sankee->geemap) (1.3.3)\n",
            "Requirement already satisfied: pickleshare in /usr/local/lib/python3.7/dist-packages (from ipython>=4.0.0; python_version >= \"3.3\"->ipywidgets<8,>=7.6.0->ipyleaflet>=0.14.0->geemap) (0.7.5)\n",
            "Requirement already satisfied: simplegeneric>0.8 in /usr/local/lib/python3.7/dist-packages (from ipython>=4.0.0; python_version >= \"3.3\"->ipywidgets<8,>=7.6.0->ipyleaflet>=0.14.0->geemap) (0.8.1)\n",
            "Requirement already satisfied: prompt-toolkit<2.0.0,>=1.0.4 in /usr/local/lib/python3.7/dist-packages (from ipython>=4.0.0; python_version >= \"3.3\"->ipywidgets<8,>=7.6.0->ipyleaflet>=0.14.0->geemap) (1.0.18)\n",
            "Requirement already satisfied: pexpect; sys_platform != \"win32\" in /usr/local/lib/python3.7/dist-packages (from ipython>=4.0.0; python_version >= \"3.3\"->ipywidgets<8,>=7.6.0->ipyleaflet>=0.14.0->geemap) (4.8.0)\n",
            "Requirement already satisfied: notebook>=4.4.1 in /usr/local/lib/python3.7/dist-packages (from widgetsnbextension~=3.5.0->ipywidgets<8,>=7.6.0->ipyleaflet>=0.14.0->geemap) (5.3.1)\n",
            "Requirement already satisfied: webencodings in /usr/local/lib/python3.7/dist-packages (from bleach->nbconvert<7,>=6.0.0->voila->geemap) (0.5.1)\n",
            "Requirement already satisfied: packaging in /usr/local/lib/python3.7/dist-packages (from bleach->nbconvert<7,>=6.0.0->voila->geemap) (20.9)\n",
            "Requirement already satisfied: cffi>=1.0.0 in /usr/local/lib/python3.7/dist-packages (from argon2-cffi->jupyter-server<2.0.0,>=0.3.0->voila->geemap) (1.14.5)\n",
            "Requirement already satisfied: ptyprocess; os_name != \"nt\" in /usr/local/lib/python3.7/dist-packages (from terminado>=0.8.3->jupyter-server<2.0.0,>=0.3.0->voila->geemap) (0.7.0)\n",
            "Requirement already satisfied: sniffio>=1.1 in /usr/local/lib/python3.7/dist-packages (from anyio<4,>=3.1.0->jupyter-server<2.0.0,>=0.3.0->voila->geemap) (1.2.0)\n",
            "Requirement already satisfied: typing-extensions; python_version < \"3.8\" in /usr/local/lib/python3.7/dist-packages (from anyio<4,>=3.1.0->jupyter-server<2.0.0,>=0.3.0->voila->geemap) (3.7.4.3)\n",
            "Requirement already satisfied: googleapis-common-protos<2.0dev,>=1.6.0 in /usr/local/lib/python3.7/dist-packages (from google-api-core<2dev,>=1.21.0->google-api-python-client<2,>=1.12.1->earthengine-api>=0.1.230->geemap) (1.53.0)\n",
            "Requirement already satisfied: protobuf>=3.12.0 in /usr/local/lib/python3.7/dist-packages (from google-api-core<2dev,>=1.21.0->google-api-python-client<2,>=1.12.1->earthengine-api>=0.1.230->geemap) (3.12.4)\n",
            "Requirement already satisfied: pyasn1>=0.1.3 in /usr/local/lib/python3.7/dist-packages (from rsa<5,>=3.1.4; python_version >= \"3.6\"->google-auth>=1.4.1->earthengine-api>=0.1.230->geemap) (0.4.8)\n",
            "Requirement already satisfied: wcwidth in /usr/local/lib/python3.7/dist-packages (from prompt-toolkit<2.0.0,>=1.0.4->ipython>=4.0.0; python_version >= \"3.3\"->ipywidgets<8,>=7.6.0->ipyleaflet>=0.14.0->geemap) (0.2.5)\n",
            "Requirement already satisfied: pycparser in /usr/local/lib/python3.7/dist-packages (from cffi>=1.0.0->argon2-cffi->jupyter-server<2.0.0,>=0.3.0->voila->geemap) (2.20)\n"
          ],
          "name": "stdout"
        }
      ]
    },
    {
      "cell_type": "code",
      "metadata": {
        "id": "G_LMkxpDVxPl"
      },
      "source": [
        "import ee\n",
        "import geemap\n",
        "import pandas as pd\n",
        "import numpy as np\n",
        "import math\n",
        "import datetime as dt"
      ],
      "execution_count": null,
      "outputs": []
    },
    {
      "cell_type": "code",
      "metadata": {
        "colab": {
          "base_uri": "https://localhost:8080/"
        },
        "id": "zskOOjJxV1iH",
        "outputId": "69f59128-f7d6-4a0f-ce92-490b9d80f5e3"
      },
      "source": [
        "ee.Authenticate()"
      ],
      "execution_count": null,
      "outputs": [
        {
          "output_type": "stream",
          "text": [
            "To authorize access needed by Earth Engine, open the following URL in a web browser and follow the instructions. If the web browser does not start automatically, please manually browse the URL below.\n",
            "\n",
            "    https://accounts.google.com/o/oauth2/auth?client_id=517222506229-vsmmajv00ul0bs7p89v5m89qs8eb9359.apps.googleusercontent.com&scope=https%3A%2F%2Fwww.googleapis.com%2Fauth%2Fearthengine+https%3A%2F%2Fwww.googleapis.com%2Fauth%2Fdevstorage.full_control&redirect_uri=urn%3Aietf%3Awg%3Aoauth%3A2.0%3Aoob&response_type=code&code_challenge=oSt6Owmzy4E4vKyobqCHUMV3kURXdkSh-Qj-rBq4C7A&code_challenge_method=S256\n",
            "\n",
            "The authorization workflow will generate a code, which you should paste in the box below. \n",
            "Enter verification code: 4/1AY0e-g6I89bML_hk6Wu0q-fb7iNDrQjynhrAo6CW-JIgmxKme8FVsh0CAMs\n",
            "\n",
            "Successfully saved authorization token.\n"
          ],
          "name": "stdout"
        }
      ]
    },
    {
      "cell_type": "code",
      "metadata": {
        "id": "dTrDxcYvV797"
      },
      "source": [
        "ee.Initialize()"
      ],
      "execution_count": null,
      "outputs": []
    },
    {
      "cell_type": "code",
      "metadata": {
        "id": "9pMIiwv3V-7h"
      },
      "source": [
        "Geometry1 =ee.Geometry.Polygon([[[-7.763444455294805,32.14083021642846], [-7.7633371669342095,32.14038507155666],\n",
        "                                 [-7.762596877246099,32.140485002227244], [-7.762704165606695,32.140939231167884], \n",
        "                                 [-7.763444455294805,32.14083021642846]]])\n",
        "\n",
        "Geometry2 =ee.Geometry.Polygon([[[-7.763310344844061,32.14030103896987], [-7.763203056483465,32.13990131482433], \n",
        "                                 [-7.762484224467474,32.14001033067415], [-7.76258614841004,32.1404145966463],\n",
        "                                 [-7.763310344844061,32.14030103896987]]])\n",
        "\n",
        "Geometry3 =ee.Geometry.Polygon([[[-7.762553961901861,32.14036917359273], [-7.762473495631414,32.14001941532244], \n",
        "                                 [-7.761674197344976,32.14018293883656], [-7.761797578959661,32.1405554079686], \n",
        "                                 [-7.762553961901861,32.14036917359273]]])\n"
      ],
      "execution_count": null,
      "outputs": []
    },
    {
      "cell_type": "code",
      "metadata": {
        "id": "zhD2p05rjWaN"
      },
      "source": [
        "satdataset = (ee.ImageCollection(\"COPERNICUS/S2_SR\")\n",
        "              .filterBounds (Geometry1)\n",
        "              .filter(ee.Filter.date('2020-04-01', '2021-03-01'))\n",
        "              .filter(ee.Filter.lt('CLOUDY_PIXEL_PERCENTAGE',20))\n",
        "              .map(lambda imag: imag.clip(Geometry1)))"
      ],
      "execution_count": null,
      "outputs": []
    },
    {
      "cell_type": "code",
      "metadata": {
        "colab": {
          "base_uri": "https://localhost:8080/"
        },
        "id": "2DqbgU43Hwqx",
        "outputId": "2f5d2f45-6766-4b2a-ddcd-94f79ee624d5"
      },
      "source": [
        "satdataset.size().getInfo()"
      ],
      "execution_count": null,
      "outputs": [
        {
          "output_type": "execute_result",
          "data": {
            "text/plain": [
              "49"
            ]
          },
          "metadata": {
            "tags": []
          },
          "execution_count": 7
        }
      ]
    },
    {
      "cell_type": "code",
      "metadata": {
        "colab": {
          "base_uri": "https://localhost:8080/"
        },
        "id": "RdsHj8WWD5VY",
        "outputId": "0013dbc4-e3a9-4068-d1bf-0bbf3c812d92"
      },
      "source": [
        "satdataset.first().getInfo()"
      ],
      "execution_count": null,
      "outputs": [
        {
          "output_type": "execute_result",
          "data": {
            "text/plain": [
              "{'bands': [{'crs': 'EPSG:32629',\n",
              "   'crs_transform': [60, 0, 600000, 0, -60, 3600000],\n",
              "   'data_type': {'max': 65535,\n",
              "    'min': 0,\n",
              "    'precision': 'int',\n",
              "    'type': 'PixelType'},\n",
              "   'dimensions': [2, 2],\n",
              "   'id': 'B1',\n",
              "   'origin': [277, 721]},\n",
              "  {'crs': 'EPSG:32629',\n",
              "   'crs_transform': [10, 0, 600000, 0, -10, 3600000],\n",
              "   'data_type': {'max': 65535,\n",
              "    'min': 0,\n",
              "    'precision': 'int',\n",
              "    'type': 'PixelType'},\n",
              "   'dimensions': [9, 7],\n",
              "   'id': 'B2',\n",
              "   'origin': [1662, 4327]},\n",
              "  {'crs': 'EPSG:32629',\n",
              "   'crs_transform': [10, 0, 600000, 0, -10, 3600000],\n",
              "   'data_type': {'max': 65535,\n",
              "    'min': 0,\n",
              "    'precision': 'int',\n",
              "    'type': 'PixelType'},\n",
              "   'dimensions': [9, 7],\n",
              "   'id': 'B3',\n",
              "   'origin': [1662, 4327]},\n",
              "  {'crs': 'EPSG:32629',\n",
              "   'crs_transform': [10, 0, 600000, 0, -10, 3600000],\n",
              "   'data_type': {'max': 65535,\n",
              "    'min': 0,\n",
              "    'precision': 'int',\n",
              "    'type': 'PixelType'},\n",
              "   'dimensions': [9, 7],\n",
              "   'id': 'B4',\n",
              "   'origin': [1662, 4327]},\n",
              "  {'crs': 'EPSG:32629',\n",
              "   'crs_transform': [20, 0, 600000, 0, -20, 3600000],\n",
              "   'data_type': {'max': 65535,\n",
              "    'min': 0,\n",
              "    'precision': 'int',\n",
              "    'type': 'PixelType'},\n",
              "   'dimensions': [5, 4],\n",
              "   'id': 'B5',\n",
              "   'origin': [831, 2163]},\n",
              "  {'crs': 'EPSG:32629',\n",
              "   'crs_transform': [20, 0, 600000, 0, -20, 3600000],\n",
              "   'data_type': {'max': 65535,\n",
              "    'min': 0,\n",
              "    'precision': 'int',\n",
              "    'type': 'PixelType'},\n",
              "   'dimensions': [5, 4],\n",
              "   'id': 'B6',\n",
              "   'origin': [831, 2163]},\n",
              "  {'crs': 'EPSG:32629',\n",
              "   'crs_transform': [20, 0, 600000, 0, -20, 3600000],\n",
              "   'data_type': {'max': 65535,\n",
              "    'min': 0,\n",
              "    'precision': 'int',\n",
              "    'type': 'PixelType'},\n",
              "   'dimensions': [5, 4],\n",
              "   'id': 'B7',\n",
              "   'origin': [831, 2163]},\n",
              "  {'crs': 'EPSG:32629',\n",
              "   'crs_transform': [10, 0, 600000, 0, -10, 3600000],\n",
              "   'data_type': {'max': 65535,\n",
              "    'min': 0,\n",
              "    'precision': 'int',\n",
              "    'type': 'PixelType'},\n",
              "   'dimensions': [9, 7],\n",
              "   'id': 'B8',\n",
              "   'origin': [1662, 4327]},\n",
              "  {'crs': 'EPSG:32629',\n",
              "   'crs_transform': [20, 0, 600000, 0, -20, 3600000],\n",
              "   'data_type': {'max': 65535,\n",
              "    'min': 0,\n",
              "    'precision': 'int',\n",
              "    'type': 'PixelType'},\n",
              "   'dimensions': [5, 4],\n",
              "   'id': 'B8A',\n",
              "   'origin': [831, 2163]},\n",
              "  {'crs': 'EPSG:32629',\n",
              "   'crs_transform': [60, 0, 600000, 0, -60, 3600000],\n",
              "   'data_type': {'max': 65535,\n",
              "    'min': 0,\n",
              "    'precision': 'int',\n",
              "    'type': 'PixelType'},\n",
              "   'dimensions': [2, 2],\n",
              "   'id': 'B9',\n",
              "   'origin': [277, 721]},\n",
              "  {'crs': 'EPSG:32629',\n",
              "   'crs_transform': [20, 0, 600000, 0, -20, 3600000],\n",
              "   'data_type': {'max': 65535,\n",
              "    'min': 0,\n",
              "    'precision': 'int',\n",
              "    'type': 'PixelType'},\n",
              "   'dimensions': [5, 4],\n",
              "   'id': 'B11',\n",
              "   'origin': [831, 2163]},\n",
              "  {'crs': 'EPSG:32629',\n",
              "   'crs_transform': [20, 0, 600000, 0, -20, 3600000],\n",
              "   'data_type': {'max': 65535,\n",
              "    'min': 0,\n",
              "    'precision': 'int',\n",
              "    'type': 'PixelType'},\n",
              "   'dimensions': [5, 4],\n",
              "   'id': 'B12',\n",
              "   'origin': [831, 2163]},\n",
              "  {'crs': 'EPSG:32629',\n",
              "   'crs_transform': [10, 0, 600000, 0, -10, 3600000],\n",
              "   'data_type': {'max': 65535,\n",
              "    'min': 0,\n",
              "    'precision': 'int',\n",
              "    'type': 'PixelType'},\n",
              "   'dimensions': [9, 7],\n",
              "   'id': 'AOT',\n",
              "   'origin': [1662, 4327]},\n",
              "  {'crs': 'EPSG:32629',\n",
              "   'crs_transform': [10, 0, 600000, 0, -10, 3600000],\n",
              "   'data_type': {'max': 65535,\n",
              "    'min': 0,\n",
              "    'precision': 'int',\n",
              "    'type': 'PixelType'},\n",
              "   'dimensions': [9, 7],\n",
              "   'id': 'WVP',\n",
              "   'origin': [1662, 4327]},\n",
              "  {'crs': 'EPSG:32629',\n",
              "   'crs_transform': [20, 0, 600000, 0, -20, 3600000],\n",
              "   'data_type': {'max': 255,\n",
              "    'min': 0,\n",
              "    'precision': 'int',\n",
              "    'type': 'PixelType'},\n",
              "   'dimensions': [5, 4],\n",
              "   'id': 'SCL',\n",
              "   'origin': [831, 2163]},\n",
              "  {'crs': 'EPSG:32629',\n",
              "   'crs_transform': [10, 0, 600000, 0, -10, 3600000],\n",
              "   'data_type': {'max': 255,\n",
              "    'min': 0,\n",
              "    'precision': 'int',\n",
              "    'type': 'PixelType'},\n",
              "   'dimensions': [9, 7],\n",
              "   'id': 'TCI_R',\n",
              "   'origin': [1662, 4327]},\n",
              "  {'crs': 'EPSG:32629',\n",
              "   'crs_transform': [10, 0, 600000, 0, -10, 3600000],\n",
              "   'data_type': {'max': 255,\n",
              "    'min': 0,\n",
              "    'precision': 'int',\n",
              "    'type': 'PixelType'},\n",
              "   'dimensions': [9, 7],\n",
              "   'id': 'TCI_G',\n",
              "   'origin': [1662, 4327]},\n",
              "  {'crs': 'EPSG:32629',\n",
              "   'crs_transform': [10, 0, 600000, 0, -10, 3600000],\n",
              "   'data_type': {'max': 255,\n",
              "    'min': 0,\n",
              "    'precision': 'int',\n",
              "    'type': 'PixelType'},\n",
              "   'dimensions': [9, 7],\n",
              "   'id': 'TCI_B',\n",
              "   'origin': [1662, 4327]},\n",
              "  {'crs': 'EPSG:32629',\n",
              "   'crs_transform': [20, 0, 600000, 0, -20, 3600000],\n",
              "   'data_type': {'max': 255,\n",
              "    'min': 0,\n",
              "    'precision': 'int',\n",
              "    'type': 'PixelType'},\n",
              "   'dimensions': [5, 4],\n",
              "   'id': 'MSK_CLDPRB',\n",
              "   'origin': [831, 2163]},\n",
              "  {'crs': 'EPSG:32629',\n",
              "   'crs_transform': [20, 0, 600000, 0, -20, 3600000],\n",
              "   'data_type': {'max': 255,\n",
              "    'min': 0,\n",
              "    'precision': 'int',\n",
              "    'type': 'PixelType'},\n",
              "   'dimensions': [5, 4],\n",
              "   'id': 'MSK_SNWPRB',\n",
              "   'origin': [831, 2163]},\n",
              "  {'crs': 'EPSG:32629',\n",
              "   'crs_transform': [10, 0, 600000, 0, -10, 3600000],\n",
              "   'data_type': {'max': 65535,\n",
              "    'min': 0,\n",
              "    'precision': 'int',\n",
              "    'type': 'PixelType'},\n",
              "   'dimensions': [9, 7],\n",
              "   'id': 'QA10',\n",
              "   'origin': [1662, 4327]},\n",
              "  {'crs': 'EPSG:32629',\n",
              "   'crs_transform': [20, 0, 600000, 0, -20, 3600000],\n",
              "   'data_type': {'max': 4294967295,\n",
              "    'min': 0,\n",
              "    'precision': 'int',\n",
              "    'type': 'PixelType'},\n",
              "   'dimensions': [5, 4],\n",
              "   'id': 'QA20',\n",
              "   'origin': [831, 2163]},\n",
              "  {'crs': 'EPSG:32629',\n",
              "   'crs_transform': [60, 0, 600000, 0, -60, 3600000],\n",
              "   'data_type': {'max': 65535,\n",
              "    'min': 0,\n",
              "    'precision': 'int',\n",
              "    'type': 'PixelType'},\n",
              "   'dimensions': [2, 2],\n",
              "   'id': 'QA60',\n",
              "   'origin': [277, 721]}],\n",
              " 'id': 'COPERNICUS/S2_SR/20200406T110621_20200406T111909_T29SPR',\n",
              " 'properties': {'AOT_RETRIEVAL_ACCURACY': 0,\n",
              "  'CLOUDY_PIXEL_PERCENTAGE': 3.383075,\n",
              "  'CLOUD_COVERAGE_ASSESSMENT': 3.383075,\n",
              "  'CLOUD_SHADOW_PERCENTAGE': 0.60449,\n",
              "  'DARK_FEATURES_PERCENTAGE': 1.616697,\n",
              "  'DATASTRIP_ID': 'S2A_OPER_MSI_L2A_DS_SGS__20200406T140111_S20200406T111909_N02.14',\n",
              "  'DATATAKE_IDENTIFIER': 'GS2A_20200406T110621_025016_N02.14',\n",
              "  'DATATAKE_TYPE': 'INS-NOBS',\n",
              "  'DEGRADED_MSI_DATA_PERCENTAGE': 0,\n",
              "  'FORMAT_CORRECTNESS': 'PASSED',\n",
              "  'GENERAL_QUALITY': 'PASSED',\n",
              "  'GENERATION_TIME': 1586181671000,\n",
              "  'GEOMETRIC_QUALITY': 'PASSED',\n",
              "  'GRANULE_ID': 'L2A_T29SPR_A025016_20200406T111909',\n",
              "  'HIGH_PROBA_CLOUDS_PERCENTAGE': 1.772489,\n",
              "  'MEAN_INCIDENCE_AZIMUTH_ANGLE_B1': 224.574192955188,\n",
              "  'MEAN_INCIDENCE_AZIMUTH_ANGLE_B10': 226.800701077637,\n",
              "  'MEAN_INCIDENCE_AZIMUTH_ANGLE_B11': 225.228930330265,\n",
              "  'MEAN_INCIDENCE_AZIMUTH_ANGLE_B12': 224.333905371926,\n",
              "  'MEAN_INCIDENCE_AZIMUTH_ANGLE_B2': 230.680033144367,\n",
              "  'MEAN_INCIDENCE_AZIMUTH_ANGLE_B3': 228.368779161935,\n",
              "  'MEAN_INCIDENCE_AZIMUTH_ANGLE_B4': 226.860949611449,\n",
              "  'MEAN_INCIDENCE_AZIMUTH_ANGLE_B5': 226.246131384091,\n",
              "  'MEAN_INCIDENCE_AZIMUTH_ANGLE_B6': 225.760256686785,\n",
              "  'MEAN_INCIDENCE_AZIMUTH_ANGLE_B7': 225.220634215994,\n",
              "  'MEAN_INCIDENCE_AZIMUTH_ANGLE_B8': 229.378442374133,\n",
              "  'MEAN_INCIDENCE_AZIMUTH_ANGLE_B8A': 224.895599074081,\n",
              "  'MEAN_INCIDENCE_AZIMUTH_ANGLE_B9': 224.721746711495,\n",
              "  'MEAN_INCIDENCE_ZENITH_ANGLE_B1': 3.72846287699283,\n",
              "  'MEAN_INCIDENCE_ZENITH_ANGLE_B10': 3.31617818711563,\n",
              "  'MEAN_INCIDENCE_ZENITH_ANGLE_B11': 3.4818038160551,\n",
              "  'MEAN_INCIDENCE_ZENITH_ANGLE_B12': 3.66700035459348,\n",
              "  'MEAN_INCIDENCE_ZENITH_ANGLE_B2': 3.13066829714075,\n",
              "  'MEAN_INCIDENCE_ZENITH_ANGLE_B3': 3.24122042017261,\n",
              "  'MEAN_INCIDENCE_ZENITH_ANGLE_B4': 3.35382677099507,\n",
              "  'MEAN_INCIDENCE_ZENITH_ANGLE_B5': 3.42180596412125,\n",
              "  'MEAN_INCIDENCE_ZENITH_ANGLE_B6': 3.49374632383427,\n",
              "  'MEAN_INCIDENCE_ZENITH_ANGLE_B7': 3.56565329687393,\n",
              "  'MEAN_INCIDENCE_ZENITH_ANGLE_B8': 3.17938777933854,\n",
              "  'MEAN_INCIDENCE_ZENITH_ANGLE_B8A': 3.64498570716304,\n",
              "  'MEAN_INCIDENCE_ZENITH_ANGLE_B9': 3.81976484889464,\n",
              "  'MEAN_SOLAR_AZIMUTH_ANGLE': 143.744518938282,\n",
              "  'MEAN_SOLAR_ZENITH_ANGLE': 30.0269705481177,\n",
              "  'MEDIUM_PROBA_CLOUDS_PERCENTAGE': 0.843259,\n",
              "  'MGRS_TILE': '29SPR',\n",
              "  'NODATA_PIXEL_PERCENTAGE': 1e-05,\n",
              "  'NOT_VEGETATED_PERCENTAGE': 82.307446,\n",
              "  'PROCESSING_BASELINE': '02.14',\n",
              "  'PRODUCT_ID': 'S2A_MSIL2A_20200406T110621_N0214_R137_T29SPR_20200406T140111',\n",
              "  'RADIATIVE_TRANSFER_ACCURACY': 0,\n",
              "  'RADIOMETRIC_QUALITY': 'PASSED',\n",
              "  'REFLECTANCE_CONVERSION_CORRECTION': 1.00084392567928,\n",
              "  'SATURATED_DEFECTIVE_PIXEL_PERCENTAGE': 0,\n",
              "  'SENSING_ORBIT_DIRECTION': 'DESCENDING',\n",
              "  'SENSING_ORBIT_NUMBER': 137,\n",
              "  'SENSOR_QUALITY': 'PASSED',\n",
              "  'SNOW_ICE_PERCENTAGE': 0.000411,\n",
              "  'SOLAR_IRRADIANCE_B1': 1884.69,\n",
              "  'SOLAR_IRRADIANCE_B10': 367.15,\n",
              "  'SOLAR_IRRADIANCE_B11': 245.59,\n",
              "  'SOLAR_IRRADIANCE_B12': 85.25,\n",
              "  'SOLAR_IRRADIANCE_B2': 1959.66,\n",
              "  'SOLAR_IRRADIANCE_B3': 1823.24,\n",
              "  'SOLAR_IRRADIANCE_B4': 1512.06,\n",
              "  'SOLAR_IRRADIANCE_B5': 1424.64,\n",
              "  'SOLAR_IRRADIANCE_B6': 1287.61,\n",
              "  'SOLAR_IRRADIANCE_B7': 1162.08,\n",
              "  'SOLAR_IRRADIANCE_B8': 1041.63,\n",
              "  'SOLAR_IRRADIANCE_B8A': 955.32,\n",
              "  'SOLAR_IRRADIANCE_B9': 812.92,\n",
              "  'SPACECRAFT_NAME': 'Sentinel-2A',\n",
              "  'THIN_CIRRUS_PERCENTAGE': 0.767327,\n",
              "  'UNCLASSIFIED_PERCENTAGE': 1.940498,\n",
              "  'VEGETATION_PERCENTAGE': 9.702332,\n",
              "  'WATER_PERCENTAGE': 0.445048,\n",
              "  'WATER_VAPOUR_RETRIEVAL_ACCURACY': 0,\n",
              "  'system:asset_size': 1802414049,\n",
              "  'system:footprint': {'coordinates': [[[-7.763444455294807,\n",
              "      32.14083021642846],\n",
              "     [-7.76333716693421, 32.14038507155666],\n",
              "     [-7.762596877246098, 32.140485002227244],\n",
              "     [-7.762704165606695, 32.140939231167884],\n",
              "     [-7.763444455294807, 32.14083021642846]]],\n",
              "   'type': 'Polygon'},\n",
              "  'system:index': '20200406T110621_20200406T111909_T29SPR',\n",
              "  'system:time_end': 1586172142910,\n",
              "  'system:time_start': 1586172142910},\n",
              " 'type': 'Image',\n",
              " 'version': 1586375412442643}"
            ]
          },
          "metadata": {
            "tags": []
          },
          "execution_count": 8
        }
      ]
    },
    {
      "cell_type": "code",
      "metadata": {
        "id": "wmMZyehws-Gi"
      },
      "source": [
        "def addNDVI(image):\n",
        "  ndvi = image.normalizedDifference(['B8', 'B4']).rename('NDVI')\n",
        "  return image.addBands(ndvi)"
      ],
      "execution_count": null,
      "outputs": []
    },
    {
      "cell_type": "code",
      "metadata": {
        "id": "5aIxK-S8zsp1"
      },
      "source": [
        "def addNDWI(image):\n",
        "  ndwi = image.normalizedDifference(['B8', 'B3']).rename('NDWI')\n",
        "  return image.addBands(ndwi)"
      ],
      "execution_count": null,
      "outputs": []
    },
    {
      "cell_type": "code",
      "metadata": {
        "id": "drqcQnudz8wE"
      },
      "source": [
        "def addSAVI(image):\n",
        "  savi = (((image.select(\"B8\").subtract(image.select(\"B4\"))).divide(image.select(\"B8\").add(image.select(\"B4\")).add(0.428))).multiply(1.428)).rename('SAVI')\n",
        "  return image.addBands(savi)"
      ],
      "execution_count": null,
      "outputs": []
    },
    {
      "cell_type": "code",
      "metadata": {
        "id": "QiZJMMiCNf_c"
      },
      "source": [
        "Dataset1 = satdataset.map(addNDVI).map(addNDWI).map(addSAVI)"
      ],
      "execution_count": null,
      "outputs": []
    },
    {
      "cell_type": "code",
      "metadata": {
        "colab": {
          "base_uri": "https://localhost:8080/"
        },
        "id": "N787AVV2pI6V",
        "outputId": "32306851-1fb2-412b-9e7b-af32bc63933f"
      },
      "source": [
        "NDVI_data_Liste= Dataset1.toList(Dataset1.size())\n",
        "print(NDVI_data_Liste.size().getInfo()),\n",
        "NDVI_data_Liste"
      ],
      "execution_count": null,
      "outputs": [
        {
          "output_type": "stream",
          "text": [
            "49\n"
          ],
          "name": "stdout"
        },
        {
          "output_type": "execute_result",
          "data": {
            "text/plain": [
              "<ee.ee_list.List at 0x7fdfa42c7290>"
            ]
          },
          "metadata": {
            "tags": []
          },
          "execution_count": 13
        }
      ]
    },
    {
      "cell_type": "code",
      "metadata": {
        "id": "lZ7U6Tynn774",
        "colab": {
          "base_uri": "https://localhost:8080/"
        },
        "outputId": "f76c1aaf-4025-404a-b97c-350ef51e693e"
      },
      "source": [
        "NDWI_data_Liste= Dataset1.toList(Dataset1.size())\n",
        "print(NDWI_data_Liste.size().getInfo()),\n",
        "NDWI_data_Liste"
      ],
      "execution_count": null,
      "outputs": [
        {
          "output_type": "stream",
          "text": [
            "49\n"
          ],
          "name": "stdout"
        },
        {
          "output_type": "execute_result",
          "data": {
            "text/plain": [
              "<ee.ee_list.List at 0x7fdfa42cb710>"
            ]
          },
          "metadata": {
            "tags": []
          },
          "execution_count": 14
        }
      ]
    },
    {
      "cell_type": "code",
      "metadata": {
        "colab": {
          "base_uri": "https://localhost:8080/"
        },
        "id": "KHS8MzUxPJUM",
        "outputId": "44e6e0d3-749c-47d2-ffe4-6f7ac80210ed"
      },
      "source": [
        "SAVI_data_Liste= Dataset1.toList(Dataset1.size())\n",
        "print(NDWI_data_Liste.size().getInfo()),\n",
        "NDWI_data_Liste"
      ],
      "execution_count": null,
      "outputs": [
        {
          "output_type": "stream",
          "text": [
            "49\n"
          ],
          "name": "stdout"
        },
        {
          "output_type": "execute_result",
          "data": {
            "text/plain": [
              "<ee.ee_list.List at 0x7fdfa42cb710>"
            ]
          },
          "metadata": {
            "tags": []
          },
          "execution_count": 15
        }
      ]
    },
    {
      "cell_type": "code",
      "metadata": {
        "id": "MUNx8Punobxt"
      },
      "source": [
        "NDVIListe = []\n",
        "NDWIListe = []\n",
        "SAVIListe = []\n",
        "Date = []\n",
        "Hourtime= []"
      ],
      "execution_count": null,
      "outputs": []
    },
    {
      "cell_type": "code",
      "metadata": {
        "id": "YBqhlwcDoc6_"
      },
      "source": [
        "for i in range(NDVI_data_Liste.size().getInfo()):\n",
        "  image=ee.Image(NDVI_data_Liste.get(i))\n",
        "  latlon_image = ee.Image.pixelLonLat().addBands(image)\n",
        "  latitudeLogititude = latlon_image.reduceRegion(\n",
        "      reducer=ee.Reducer.toList(),\n",
        "      geometry=Geometry1,\n",
        "      maxPixels=1e15,\n",
        "      scale=30)\n",
        "  NDVIListe.append(np.mean(latitudeLogititude.getInfo().get('NDVI')))\n",
        "  Date.append(image.getInfo()[\"properties\"]['DATATAKE_IDENTIFIER'])"
      ],
      "execution_count": null,
      "outputs": []
    },
    {
      "cell_type": "code",
      "metadata": {
        "id": "dI7efVe4QAVK"
      },
      "source": [
        "for i in range(NDWI_data_Liste.size().getInfo()):\n",
        "  image=ee.Image(NDWI_data_Liste.get(i))\n",
        "  latlon_image = ee.Image.pixelLonLat().addBands(image)\n",
        "  latitudeLogititude = latlon_image.reduceRegion(\n",
        "      reducer=ee.Reducer.toList(),\n",
        "      geometry=Geometry1,\n",
        "      maxPixels=1e15,\n",
        "      scale=30)\n",
        "  NDWIListe.append(np.mean(latitudeLogititude.getInfo().get('NDWI')))"
      ],
      "execution_count": null,
      "outputs": []
    },
    {
      "cell_type": "code",
      "metadata": {
        "id": "ku93n9N_QJaZ"
      },
      "source": [
        "for i in range(SAVI_data_Liste.size().getInfo()):\n",
        "  image=ee.Image(SAVI_data_Liste.get(i))\n",
        "  latlon_image = ee.Image.pixelLonLat().addBands(image)\n",
        "  latitudeLogititude = latlon_image.reduceRegion(\n",
        "      reducer=ee.Reducer.toList(),\n",
        "      geometry=Geometry1,\n",
        "      maxPixels=1e15,\n",
        "      scale=30)\n",
        "  SAVIListe.append(np.mean(latitudeLogititude.getInfo().get('SAVI')))"
      ],
      "execution_count": null,
      "outputs": []
    },
    {
      "cell_type": "code",
      "metadata": {
        "id": "ZIkiOLuFQW-h"
      },
      "source": [
        "column_names = ['Hourtime', 'Date', 'Air_temperature', 'Soil_temperature', 'Precipitation', 'NDVI', 'NDWI', 'SAVI', 'Leaf_Area_index', 'Land_surface_temperature', 'Volumetric_Soil_Moisture']"
      ],
      "execution_count": null,
      "outputs": []
    },
    {
      "cell_type": "code",
      "metadata": {
        "id": "tTP8Z55WQ0HI"
      },
      "source": [
        "dataset = pd.DataFrame(columns = column_names)"
      ],
      "execution_count": null,
      "outputs": []
    },
    {
      "cell_type": "code",
      "metadata": {
        "id": "EA1g9oGkuAFP"
      },
      "source": [
        "Date1 = [x.replace('GS2A_', '') for x in Date]\n",
        "Date1 = [x.replace('GS2B_', '') for x in Date1]\n",
        "Date1 = [x.replace('_', '') for x in Date1]\n",
        "Date1 = [x.replace('T', '') for x in Date1]\n",
        "Date1 = [ x[0:14] for x in Date1 ]\n",
        "Hourtime = [x[8:14] for x in Date1]\n",
        "Date1 = [ x[0:8] for x in Date1 ]"
      ],
      "execution_count": null,
      "outputs": []
    },
    {
      "cell_type": "code",
      "metadata": {
        "id": "D8kINNijQ2qK"
      },
      "source": [
        "dataset[\"NDVI\"] = NDVIListe\n",
        "dataset[\"NDWI\"] = NDWIListe\n",
        "dataset[\"SAVI\"] = SAVIListe"
      ],
      "execution_count": null,
      "outputs": []
    },
    {
      "cell_type": "code",
      "metadata": {
        "id": "3ca9zD4_rTix"
      },
      "source": [
        "result1 = [2.88 * x + 1.14 * (1 + 0.104 * math.exp(4.1 * x)) for x in NDWIListe]\n",
        "dataset[\"Leaf_Area_index\"] = result1"
      ],
      "execution_count": null,
      "outputs": []
    },
    {
      "cell_type": "code",
      "metadata": {
        "id": "J_xTp8HcsFnQ"
      },
      "source": [
        "Hourtime1 = [ x[:2] + ':' + x[2:] for x in Hourtime ]\n",
        "Hourtime1 = [ x[:5] + ':' + x[5:] for x in Hourtime1 ] "
      ],
      "execution_count": null,
      "outputs": []
    },
    {
      "cell_type": "code",
      "metadata": {
        "id": "8WlOBTLPR2BZ"
      },
      "source": [
        "dataset[\"Hourtime\"] = Hourtime1\n",
        "dataset[\"Date\"] = pd.to_datetime(Date1, format='%Y-%m-%d', errors='ignore')"
      ],
      "execution_count": null,
      "outputs": []
    },
    {
      "cell_type": "code",
      "metadata": {
        "colab": {
          "base_uri": "https://localhost:8080/",
          "height": 309
        },
        "id": "tH6Tut0RjQd1",
        "outputId": "dd5811b5-dccd-4ec6-da44-d99744545964"
      },
      "source": [
        "dataset.head()"
      ],
      "execution_count": null,
      "outputs": [
        {
          "output_type": "execute_result",
          "data": {
            "text/html": [
              "<div>\n",
              "<style scoped>\n",
              "    .dataframe tbody tr th:only-of-type {\n",
              "        vertical-align: middle;\n",
              "    }\n",
              "\n",
              "    .dataframe tbody tr th {\n",
              "        vertical-align: top;\n",
              "    }\n",
              "\n",
              "    .dataframe thead th {\n",
              "        text-align: right;\n",
              "    }\n",
              "</style>\n",
              "<table border=\"1\" class=\"dataframe\">\n",
              "  <thead>\n",
              "    <tr style=\"text-align: right;\">\n",
              "      <th></th>\n",
              "      <th>Hourtime</th>\n",
              "      <th>Date</th>\n",
              "      <th>Air_temperature</th>\n",
              "      <th>Soil_temperature</th>\n",
              "      <th>Precipitation</th>\n",
              "      <th>NDVI</th>\n",
              "      <th>NDWI</th>\n",
              "      <th>SAVI</th>\n",
              "      <th>Leaf_Area_index</th>\n",
              "      <th>Land_surface_temperature</th>\n",
              "      <th>Volumetric_Soil_Moisture</th>\n",
              "    </tr>\n",
              "  </thead>\n",
              "  <tbody>\n",
              "    <tr>\n",
              "      <th>0</th>\n",
              "      <td>11:06:21</td>\n",
              "      <td>2020-04-06</td>\n",
              "      <td>NaN</td>\n",
              "      <td>NaN</td>\n",
              "      <td>NaN</td>\n",
              "      <td>0.320214</td>\n",
              "      <td>0.436073</td>\n",
              "      <td>0.457228</td>\n",
              "      <td>3.104510</td>\n",
              "      <td>NaN</td>\n",
              "      <td>NaN</td>\n",
              "    </tr>\n",
              "    <tr>\n",
              "      <th>1</th>\n",
              "      <td>11:06:19</td>\n",
              "      <td>2020-05-01</td>\n",
              "      <td>NaN</td>\n",
              "      <td>NaN</td>\n",
              "      <td>NaN</td>\n",
              "      <td>0.321962</td>\n",
              "      <td>0.435299</td>\n",
              "      <td>0.459722</td>\n",
              "      <td>3.100036</td>\n",
              "      <td>NaN</td>\n",
              "      <td>NaN</td>\n",
              "    </tr>\n",
              "    <tr>\n",
              "      <th>2</th>\n",
              "      <td>11:06:21</td>\n",
              "      <td>2020-05-06</td>\n",
              "      <td>NaN</td>\n",
              "      <td>NaN</td>\n",
              "      <td>NaN</td>\n",
              "      <td>0.337963</td>\n",
              "      <td>0.442432</td>\n",
              "      <td>0.482572</td>\n",
              "      <td>3.141542</td>\n",
              "      <td>NaN</td>\n",
              "      <td>NaN</td>\n",
              "    </tr>\n",
              "    <tr>\n",
              "      <th>3</th>\n",
              "      <td>11:06:19</td>\n",
              "      <td>2020-05-11</td>\n",
              "      <td>NaN</td>\n",
              "      <td>NaN</td>\n",
              "      <td>NaN</td>\n",
              "      <td>0.222053</td>\n",
              "      <td>0.385900</td>\n",
              "      <td>0.317063</td>\n",
              "      <td>2.828257</td>\n",
              "      <td>NaN</td>\n",
              "      <td>NaN</td>\n",
              "    </tr>\n",
              "    <tr>\n",
              "      <th>4</th>\n",
              "      <td>11:06:19</td>\n",
              "      <td>2020-05-21</td>\n",
              "      <td>NaN</td>\n",
              "      <td>NaN</td>\n",
              "      <td>NaN</td>\n",
              "      <td>0.189151</td>\n",
              "      <td>0.368886</td>\n",
              "      <td>0.270085</td>\n",
              "      <td>2.740386</td>\n",
              "      <td>NaN</td>\n",
              "      <td>NaN</td>\n",
              "    </tr>\n",
              "  </tbody>\n",
              "</table>\n",
              "</div>"
            ],
            "text/plain": [
              "   Hourtime       Date  ... Land_surface_temperature Volumetric_Soil_Moisture\n",
              "0  11:06:21 2020-04-06  ...                      NaN                      NaN\n",
              "1  11:06:19 2020-05-01  ...                      NaN                      NaN\n",
              "2  11:06:21 2020-05-06  ...                      NaN                      NaN\n",
              "3  11:06:19 2020-05-11  ...                      NaN                      NaN\n",
              "4  11:06:19 2020-05-21  ...                      NaN                      NaN\n",
              "\n",
              "[5 rows x 11 columns]"
            ]
          },
          "metadata": {
            "tags": []
          },
          "execution_count": 63
        }
      ]
    },
    {
      "cell_type": "code",
      "metadata": {
        "id": "l3M5Xq2sHtpJ"
      },
      "source": [
        "weatherdata = pd.read_excel('weatherdata.xlsx', index_col=0)  "
      ],
      "execution_count": null,
      "outputs": []
    },
    {
      "cell_type": "code",
      "metadata": {
        "colab": {
          "base_uri": "https://localhost:8080/",
          "height": 592
        },
        "id": "oVhgT4fWIU1w",
        "outputId": "ccead82e-ad64-49ef-ff70-7b004d435a49"
      },
      "source": [
        "weatherdata.head()"
      ],
      "execution_count": null,
      "outputs": [
        {
          "output_type": "execute_result",
          "data": {
            "text/html": [
              "<div>\n",
              "<style scoped>\n",
              "    .dataframe tbody tr th:only-of-type {\n",
              "        vertical-align: middle;\n",
              "    }\n",
              "\n",
              "    .dataframe tbody tr th {\n",
              "        vertical-align: top;\n",
              "    }\n",
              "\n",
              "    .dataframe thead th {\n",
              "        text-align: right;\n",
              "    }\n",
              "</style>\n",
              "<table border=\"1\" class=\"dataframe\">\n",
              "  <thead>\n",
              "    <tr style=\"text-align: right;\">\n",
              "      <th></th>\n",
              "      <th>Date time</th>\n",
              "      <th>Maximum Temperature</th>\n",
              "      <th>Minimum Temperature</th>\n",
              "      <th>Temperature</th>\n",
              "      <th>Wind Chill</th>\n",
              "      <th>Heat Index</th>\n",
              "      <th>Precipitation</th>\n",
              "      <th>Snow</th>\n",
              "      <th>Snow Depth</th>\n",
              "      <th>Wind Speed</th>\n",
              "      <th>Wind Direction</th>\n",
              "      <th>Wind Gust</th>\n",
              "      <th>Visibility</th>\n",
              "      <th>Cloud Cover</th>\n",
              "      <th>Relative Humidity</th>\n",
              "      <th>Conditions</th>\n",
              "    </tr>\n",
              "    <tr>\n",
              "      <th>Name</th>\n",
              "      <th></th>\n",
              "      <th></th>\n",
              "      <th></th>\n",
              "      <th></th>\n",
              "      <th></th>\n",
              "      <th></th>\n",
              "      <th></th>\n",
              "      <th></th>\n",
              "      <th></th>\n",
              "      <th></th>\n",
              "      <th></th>\n",
              "      <th></th>\n",
              "      <th></th>\n",
              "      <th></th>\n",
              "      <th></th>\n",
              "      <th></th>\n",
              "    </tr>\n",
              "  </thead>\n",
              "  <tbody>\n",
              "    <tr>\n",
              "      <th>بن جرير, مراكش - آسفي, المغرب</th>\n",
              "      <td>04/01/2020 00:00:00</td>\n",
              "      <td>59.0</td>\n",
              "      <td>59.0</td>\n",
              "      <td>59.0</td>\n",
              "      <td>NaN</td>\n",
              "      <td>NaN</td>\n",
              "      <td>0.0</td>\n",
              "      <td>NaN</td>\n",
              "      <td>NaN</td>\n",
              "      <td>8.1</td>\n",
              "      <td>270.0</td>\n",
              "      <td>NaN</td>\n",
              "      <td>5.0</td>\n",
              "      <td>89.0</td>\n",
              "      <td>72.03</td>\n",
              "      <td>Overcast</td>\n",
              "    </tr>\n",
              "    <tr>\n",
              "      <th>بن جرير, مراكش - آسفي, المغرب</th>\n",
              "      <td>04/01/2020 01:00:00</td>\n",
              "      <td>57.0</td>\n",
              "      <td>57.0</td>\n",
              "      <td>57.0</td>\n",
              "      <td>NaN</td>\n",
              "      <td>NaN</td>\n",
              "      <td>0.0</td>\n",
              "      <td>NaN</td>\n",
              "      <td>NaN</td>\n",
              "      <td>9.9</td>\n",
              "      <td>275.0</td>\n",
              "      <td>NaN</td>\n",
              "      <td>5.0</td>\n",
              "      <td>74.3</td>\n",
              "      <td>81.33</td>\n",
              "      <td>Partially cloudy</td>\n",
              "    </tr>\n",
              "    <tr>\n",
              "      <th>بن جرير, مراكش - آسفي, المغرب</th>\n",
              "      <td>04/01/2020 02:00:00</td>\n",
              "      <td>55.4</td>\n",
              "      <td>55.4</td>\n",
              "      <td>55.4</td>\n",
              "      <td>NaN</td>\n",
              "      <td>NaN</td>\n",
              "      <td>0.0</td>\n",
              "      <td>NaN</td>\n",
              "      <td>NaN</td>\n",
              "      <td>3.4</td>\n",
              "      <td>250.0</td>\n",
              "      <td>NaN</td>\n",
              "      <td>5.0</td>\n",
              "      <td>50.0</td>\n",
              "      <td>82.01</td>\n",
              "      <td>Partially cloudy</td>\n",
              "    </tr>\n",
              "    <tr>\n",
              "      <th>بن جرير, مراكش - آسفي, المغرب</th>\n",
              "      <td>04/01/2020 03:00:00</td>\n",
              "      <td>55.4</td>\n",
              "      <td>55.4</td>\n",
              "      <td>55.4</td>\n",
              "      <td>NaN</td>\n",
              "      <td>NaN</td>\n",
              "      <td>0.0</td>\n",
              "      <td>NaN</td>\n",
              "      <td>NaN</td>\n",
              "      <td>1.1</td>\n",
              "      <td>NaN</td>\n",
              "      <td>NaN</td>\n",
              "      <td>5.0</td>\n",
              "      <td>50.0</td>\n",
              "      <td>82.01</td>\n",
              "      <td>Partially cloudy</td>\n",
              "    </tr>\n",
              "    <tr>\n",
              "      <th>بن جرير, مراكش - آسفي, المغرب</th>\n",
              "      <td>04/01/2020 04:00:00</td>\n",
              "      <td>55.2</td>\n",
              "      <td>55.2</td>\n",
              "      <td>55.2</td>\n",
              "      <td>NaN</td>\n",
              "      <td>NaN</td>\n",
              "      <td>0.0</td>\n",
              "      <td>NaN</td>\n",
              "      <td>NaN</td>\n",
              "      <td>3.5</td>\n",
              "      <td>300.0</td>\n",
              "      <td>NaN</td>\n",
              "      <td>5.0</td>\n",
              "      <td>50.0</td>\n",
              "      <td>82.80</td>\n",
              "      <td>Partially cloudy</td>\n",
              "    </tr>\n",
              "  </tbody>\n",
              "</table>\n",
              "</div>"
            ],
            "text/plain": [
              "                                         Date time  ...        Conditions\n",
              "Name                                                ...                  \n",
              "بن جرير, مراكش - آسفي, المغرب  04/01/2020 00:00:00  ...          Overcast\n",
              "بن جرير, مراكش - آسفي, المغرب  04/01/2020 01:00:00  ...  Partially cloudy\n",
              "بن جرير, مراكش - آسفي, المغرب  04/01/2020 02:00:00  ...  Partially cloudy\n",
              "بن جرير, مراكش - آسفي, المغرب  04/01/2020 03:00:00  ...  Partially cloudy\n",
              "بن جرير, مراكش - آسفي, المغرب  04/01/2020 04:00:00  ...  Partially cloudy\n",
              "\n",
              "[5 rows x 16 columns]"
            ]
          },
          "metadata": {
            "tags": []
          },
          "execution_count": 109
        }
      ]
    },
    {
      "cell_type": "code",
      "metadata": {
        "id": "62tKaewcIoVj"
      },
      "source": [
        "Date2 = []\n",
        "Hourtime2 = []\n",
        "Date2 = [x[:10] for x in weatherdata[\"Date time\"]]\n",
        "Hourtime2 = [x[11:] for x in weatherdata[\"Date time\"]]\n",
        "Date2 = [x.replace('/', '-') for x in Date2]\n",
        "Date2 = [ x[6:] + '-' + x[:2] + '-' + x[3:5] for x in Date2 ]\n",
        "weatherdata[\"Date\"] = pd.to_datetime(Date2, format='%Y-%m-%d', errors='ignore')\n",
        "weatherdata['Hour'] = Hourtime2"
      ],
      "execution_count": null,
      "outputs": []
    },
    {
      "cell_type": "code",
      "metadata": {
        "colab": {
          "base_uri": "https://localhost:8080/",
          "height": 349
        },
        "id": "BIUCxUTyKBGm",
        "outputId": "6bc8d85b-87cd-43f7-cf16-ee1002ff3c16"
      },
      "source": [
        "weatherdata = weatherdata.drop(columns='Date time', axis = 1)\n",
        "weatherdata.head(2)"
      ],
      "execution_count": null,
      "outputs": [
        {
          "output_type": "execute_result",
          "data": {
            "text/html": [
              "<div>\n",
              "<style scoped>\n",
              "    .dataframe tbody tr th:only-of-type {\n",
              "        vertical-align: middle;\n",
              "    }\n",
              "\n",
              "    .dataframe tbody tr th {\n",
              "        vertical-align: top;\n",
              "    }\n",
              "\n",
              "    .dataframe thead th {\n",
              "        text-align: right;\n",
              "    }\n",
              "</style>\n",
              "<table border=\"1\" class=\"dataframe\">\n",
              "  <thead>\n",
              "    <tr style=\"text-align: right;\">\n",
              "      <th></th>\n",
              "      <th>Maximum Temperature</th>\n",
              "      <th>Minimum Temperature</th>\n",
              "      <th>Temperature</th>\n",
              "      <th>Wind Chill</th>\n",
              "      <th>Heat Index</th>\n",
              "      <th>Precipitation</th>\n",
              "      <th>Snow</th>\n",
              "      <th>Snow Depth</th>\n",
              "      <th>Wind Speed</th>\n",
              "      <th>Wind Direction</th>\n",
              "      <th>Wind Gust</th>\n",
              "      <th>Visibility</th>\n",
              "      <th>Cloud Cover</th>\n",
              "      <th>Relative Humidity</th>\n",
              "      <th>Conditions</th>\n",
              "      <th>Date</th>\n",
              "      <th>Hour</th>\n",
              "    </tr>\n",
              "    <tr>\n",
              "      <th>Name</th>\n",
              "      <th></th>\n",
              "      <th></th>\n",
              "      <th></th>\n",
              "      <th></th>\n",
              "      <th></th>\n",
              "      <th></th>\n",
              "      <th></th>\n",
              "      <th></th>\n",
              "      <th></th>\n",
              "      <th></th>\n",
              "      <th></th>\n",
              "      <th></th>\n",
              "      <th></th>\n",
              "      <th></th>\n",
              "      <th></th>\n",
              "      <th></th>\n",
              "      <th></th>\n",
              "    </tr>\n",
              "  </thead>\n",
              "  <tbody>\n",
              "    <tr>\n",
              "      <th>بن جرير, مراكش - آسفي, المغرب</th>\n",
              "      <td>59.0</td>\n",
              "      <td>59.0</td>\n",
              "      <td>59.0</td>\n",
              "      <td>NaN</td>\n",
              "      <td>NaN</td>\n",
              "      <td>0.0</td>\n",
              "      <td>NaN</td>\n",
              "      <td>NaN</td>\n",
              "      <td>8.1</td>\n",
              "      <td>270.0</td>\n",
              "      <td>NaN</td>\n",
              "      <td>5.0</td>\n",
              "      <td>89.0</td>\n",
              "      <td>72.03</td>\n",
              "      <td>Overcast</td>\n",
              "      <td>2020-04-01</td>\n",
              "      <td>00:00:00</td>\n",
              "    </tr>\n",
              "    <tr>\n",
              "      <th>بن جرير, مراكش - آسفي, المغرب</th>\n",
              "      <td>57.0</td>\n",
              "      <td>57.0</td>\n",
              "      <td>57.0</td>\n",
              "      <td>NaN</td>\n",
              "      <td>NaN</td>\n",
              "      <td>0.0</td>\n",
              "      <td>NaN</td>\n",
              "      <td>NaN</td>\n",
              "      <td>9.9</td>\n",
              "      <td>275.0</td>\n",
              "      <td>NaN</td>\n",
              "      <td>5.0</td>\n",
              "      <td>74.3</td>\n",
              "      <td>81.33</td>\n",
              "      <td>Partially cloudy</td>\n",
              "      <td>2020-04-01</td>\n",
              "      <td>01:00:00</td>\n",
              "    </tr>\n",
              "  </tbody>\n",
              "</table>\n",
              "</div>"
            ],
            "text/plain": [
              "                               Maximum Temperature  ...      Hour\n",
              "Name                                                ...          \n",
              "بن جرير, مراكش - آسفي, المغرب                 59.0  ...  00:00:00\n",
              "بن جرير, مراكش - آسفي, المغرب                 57.0  ...  01:00:00\n",
              "\n",
              "[2 rows x 17 columns]"
            ]
          },
          "metadata": {
            "tags": []
          },
          "execution_count": 89
        }
      ]
    },
    {
      "cell_type": "code",
      "metadata": {
        "id": "ddJnw6iePMEz"
      },
      "source": [
        "new_data = pd.merge(dataset,weatherdata[weatherdata[\"Hour\"]==\"11:00:00\"][[\"Temperature\", \"Precipitation\", \"Date\"]], on='Date',suffixes=('_dataset', ''))"
      ],
      "execution_count": null,
      "outputs": []
    },
    {
      "cell_type": "code",
      "metadata": {
        "colab": {
          "base_uri": "https://localhost:8080/",
          "height": 549
        },
        "id": "sSkJp7ZcQWeD",
        "outputId": "e6c92945-d743-4443-f552-39a224704424"
      },
      "source": [
        "new_data.head(10)"
      ],
      "execution_count": null,
      "outputs": [
        {
          "output_type": "execute_result",
          "data": {
            "text/html": [
              "<div>\n",
              "<style scoped>\n",
              "    .dataframe tbody tr th:only-of-type {\n",
              "        vertical-align: middle;\n",
              "    }\n",
              "\n",
              "    .dataframe tbody tr th {\n",
              "        vertical-align: top;\n",
              "    }\n",
              "\n",
              "    .dataframe thead th {\n",
              "        text-align: right;\n",
              "    }\n",
              "</style>\n",
              "<table border=\"1\" class=\"dataframe\">\n",
              "  <thead>\n",
              "    <tr style=\"text-align: right;\">\n",
              "      <th></th>\n",
              "      <th>Hourtime</th>\n",
              "      <th>Date</th>\n",
              "      <th>Air_temperature</th>\n",
              "      <th>Soil_temperature</th>\n",
              "      <th>Precipitation_dataset</th>\n",
              "      <th>NDVI</th>\n",
              "      <th>NDWI</th>\n",
              "      <th>SAVI</th>\n",
              "      <th>Leaf_Area_index</th>\n",
              "      <th>Land_surface_temperature</th>\n",
              "      <th>Volumetric_Soil_Moisture</th>\n",
              "      <th>Temperature</th>\n",
              "      <th>Precipitation</th>\n",
              "    </tr>\n",
              "  </thead>\n",
              "  <tbody>\n",
              "    <tr>\n",
              "      <th>0</th>\n",
              "      <td>11:06:21</td>\n",
              "      <td>2020-04-06</td>\n",
              "      <td>NaN</td>\n",
              "      <td>NaN</td>\n",
              "      <td>NaN</td>\n",
              "      <td>0.320214</td>\n",
              "      <td>0.436073</td>\n",
              "      <td>0.457228</td>\n",
              "      <td>3.104510</td>\n",
              "      <td>NaN</td>\n",
              "      <td>NaN</td>\n",
              "      <td>69.8</td>\n",
              "      <td>0.0</td>\n",
              "    </tr>\n",
              "    <tr>\n",
              "      <th>1</th>\n",
              "      <td>11:06:19</td>\n",
              "      <td>2020-05-01</td>\n",
              "      <td>NaN</td>\n",
              "      <td>NaN</td>\n",
              "      <td>NaN</td>\n",
              "      <td>0.321962</td>\n",
              "      <td>0.435299</td>\n",
              "      <td>0.459722</td>\n",
              "      <td>3.100036</td>\n",
              "      <td>NaN</td>\n",
              "      <td>NaN</td>\n",
              "      <td>77.0</td>\n",
              "      <td>0.0</td>\n",
              "    </tr>\n",
              "    <tr>\n",
              "      <th>2</th>\n",
              "      <td>11:06:21</td>\n",
              "      <td>2020-05-06</td>\n",
              "      <td>NaN</td>\n",
              "      <td>NaN</td>\n",
              "      <td>NaN</td>\n",
              "      <td>0.337963</td>\n",
              "      <td>0.442432</td>\n",
              "      <td>0.482572</td>\n",
              "      <td>3.141542</td>\n",
              "      <td>NaN</td>\n",
              "      <td>NaN</td>\n",
              "      <td>80.6</td>\n",
              "      <td>0.0</td>\n",
              "    </tr>\n",
              "    <tr>\n",
              "      <th>3</th>\n",
              "      <td>11:06:19</td>\n",
              "      <td>2020-05-11</td>\n",
              "      <td>NaN</td>\n",
              "      <td>NaN</td>\n",
              "      <td>NaN</td>\n",
              "      <td>0.222053</td>\n",
              "      <td>0.385900</td>\n",
              "      <td>0.317063</td>\n",
              "      <td>2.828257</td>\n",
              "      <td>NaN</td>\n",
              "      <td>NaN</td>\n",
              "      <td>71.6</td>\n",
              "      <td>0.0</td>\n",
              "    </tr>\n",
              "    <tr>\n",
              "      <th>4</th>\n",
              "      <td>11:06:19</td>\n",
              "      <td>2020-05-21</td>\n",
              "      <td>NaN</td>\n",
              "      <td>NaN</td>\n",
              "      <td>NaN</td>\n",
              "      <td>0.189151</td>\n",
              "      <td>0.368886</td>\n",
              "      <td>0.270085</td>\n",
              "      <td>2.740386</td>\n",
              "      <td>NaN</td>\n",
              "      <td>NaN</td>\n",
              "      <td>NaN</td>\n",
              "      <td>0.0</td>\n",
              "    </tr>\n",
              "    <tr>\n",
              "      <th>5</th>\n",
              "      <td>11:06:31</td>\n",
              "      <td>2020-05-26</td>\n",
              "      <td>NaN</td>\n",
              "      <td>NaN</td>\n",
              "      <td>NaN</td>\n",
              "      <td>0.168154</td>\n",
              "      <td>0.353358</td>\n",
              "      <td>0.240104</td>\n",
              "      <td>2.662481</td>\n",
              "      <td>NaN</td>\n",
              "      <td>NaN</td>\n",
              "      <td>89.6</td>\n",
              "      <td>0.0</td>\n",
              "    </tr>\n",
              "    <tr>\n",
              "      <th>6</th>\n",
              "      <td>11:06:19</td>\n",
              "      <td>2020-05-31</td>\n",
              "      <td>NaN</td>\n",
              "      <td>NaN</td>\n",
              "      <td>NaN</td>\n",
              "      <td>0.173758</td>\n",
              "      <td>0.358141</td>\n",
              "      <td>0.248105</td>\n",
              "      <td>2.686255</td>\n",
              "      <td>NaN</td>\n",
              "      <td>NaN</td>\n",
              "      <td>66.2</td>\n",
              "      <td>0.0</td>\n",
              "    </tr>\n",
              "    <tr>\n",
              "      <th>7</th>\n",
              "      <td>11:06:19</td>\n",
              "      <td>2020-06-10</td>\n",
              "      <td>NaN</td>\n",
              "      <td>NaN</td>\n",
              "      <td>NaN</td>\n",
              "      <td>0.227841</td>\n",
              "      <td>0.376623</td>\n",
              "      <td>0.325330</td>\n",
              "      <td>2.780010</td>\n",
              "      <td>NaN</td>\n",
              "      <td>NaN</td>\n",
              "      <td>73.4</td>\n",
              "      <td>0.0</td>\n",
              "    </tr>\n",
              "    <tr>\n",
              "      <th>8</th>\n",
              "      <td>11:06:19</td>\n",
              "      <td>2020-06-20</td>\n",
              "      <td>NaN</td>\n",
              "      <td>NaN</td>\n",
              "      <td>NaN</td>\n",
              "      <td>0.293234</td>\n",
              "      <td>0.417183</td>\n",
              "      <td>0.418704</td>\n",
              "      <td>2.997298</td>\n",
              "      <td>NaN</td>\n",
              "      <td>NaN</td>\n",
              "      <td>77.0</td>\n",
              "      <td>0.0</td>\n",
              "    </tr>\n",
              "    <tr>\n",
              "      <th>9</th>\n",
              "      <td>11:06:31</td>\n",
              "      <td>2020-06-25</td>\n",
              "      <td>NaN</td>\n",
              "      <td>NaN</td>\n",
              "      <td>NaN</td>\n",
              "      <td>0.210105</td>\n",
              "      <td>0.339913</td>\n",
              "      <td>0.300006</td>\n",
              "      <td>2.596686</td>\n",
              "      <td>NaN</td>\n",
              "      <td>NaN</td>\n",
              "      <td>75.2</td>\n",
              "      <td>0.0</td>\n",
              "    </tr>\n",
              "  </tbody>\n",
              "</table>\n",
              "</div>"
            ],
            "text/plain": [
              "   Hourtime       Date  ... Temperature Precipitation\n",
              "0  11:06:21 2020-04-06  ...        69.8           0.0\n",
              "1  11:06:19 2020-05-01  ...        77.0           0.0\n",
              "2  11:06:21 2020-05-06  ...        80.6           0.0\n",
              "3  11:06:19 2020-05-11  ...        71.6           0.0\n",
              "4  11:06:19 2020-05-21  ...         NaN           0.0\n",
              "5  11:06:31 2020-05-26  ...        89.6           0.0\n",
              "6  11:06:19 2020-05-31  ...        66.2           0.0\n",
              "7  11:06:19 2020-06-10  ...        73.4           0.0\n",
              "8  11:06:19 2020-06-20  ...        77.0           0.0\n",
              "9  11:06:31 2020-06-25  ...        75.2           0.0\n",
              "\n",
              "[10 rows x 13 columns]"
            ]
          },
          "metadata": {
            "tags": []
          },
          "execution_count": 103
        }
      ]
    },
    {
      "cell_type": "code",
      "metadata": {
        "id": "n-zgMJm_RX_g"
      },
      "source": [
        "new_data = new_data.drop([\"Air_temperature\", \"Precipitation_dataset\"], axis = 1)"
      ],
      "execution_count": null,
      "outputs": []
    },
    {
      "cell_type": "code",
      "metadata": {
        "colab": {
          "base_uri": "https://localhost:8080/",
          "height": 289
        },
        "id": "yLV18cvxRhiJ",
        "outputId": "37e291d0-a557-45a5-db69-80a88a2cd096"
      },
      "source": [
        "new_data.head()"
      ],
      "execution_count": null,
      "outputs": [
        {
          "output_type": "execute_result",
          "data": {
            "text/html": [
              "<div>\n",
              "<style scoped>\n",
              "    .dataframe tbody tr th:only-of-type {\n",
              "        vertical-align: middle;\n",
              "    }\n",
              "\n",
              "    .dataframe tbody tr th {\n",
              "        vertical-align: top;\n",
              "    }\n",
              "\n",
              "    .dataframe thead th {\n",
              "        text-align: right;\n",
              "    }\n",
              "</style>\n",
              "<table border=\"1\" class=\"dataframe\">\n",
              "  <thead>\n",
              "    <tr style=\"text-align: right;\">\n",
              "      <th></th>\n",
              "      <th>Hourtime</th>\n",
              "      <th>Date</th>\n",
              "      <th>Soil_temperature</th>\n",
              "      <th>NDVI</th>\n",
              "      <th>NDWI</th>\n",
              "      <th>SAVI</th>\n",
              "      <th>Leaf_Area_index</th>\n",
              "      <th>Land_surface_temperature</th>\n",
              "      <th>Volumetric_Soil_Moisture</th>\n",
              "      <th>Temperature</th>\n",
              "      <th>Precipitation</th>\n",
              "    </tr>\n",
              "  </thead>\n",
              "  <tbody>\n",
              "    <tr>\n",
              "      <th>0</th>\n",
              "      <td>11:06:21</td>\n",
              "      <td>2020-04-06</td>\n",
              "      <td>NaN</td>\n",
              "      <td>0.320214</td>\n",
              "      <td>0.436073</td>\n",
              "      <td>0.457228</td>\n",
              "      <td>3.104510</td>\n",
              "      <td>NaN</td>\n",
              "      <td>NaN</td>\n",
              "      <td>69.8</td>\n",
              "      <td>0.0</td>\n",
              "    </tr>\n",
              "    <tr>\n",
              "      <th>1</th>\n",
              "      <td>11:06:19</td>\n",
              "      <td>2020-05-01</td>\n",
              "      <td>NaN</td>\n",
              "      <td>0.321962</td>\n",
              "      <td>0.435299</td>\n",
              "      <td>0.459722</td>\n",
              "      <td>3.100036</td>\n",
              "      <td>NaN</td>\n",
              "      <td>NaN</td>\n",
              "      <td>77.0</td>\n",
              "      <td>0.0</td>\n",
              "    </tr>\n",
              "    <tr>\n",
              "      <th>2</th>\n",
              "      <td>11:06:21</td>\n",
              "      <td>2020-05-06</td>\n",
              "      <td>NaN</td>\n",
              "      <td>0.337963</td>\n",
              "      <td>0.442432</td>\n",
              "      <td>0.482572</td>\n",
              "      <td>3.141542</td>\n",
              "      <td>NaN</td>\n",
              "      <td>NaN</td>\n",
              "      <td>80.6</td>\n",
              "      <td>0.0</td>\n",
              "    </tr>\n",
              "    <tr>\n",
              "      <th>3</th>\n",
              "      <td>11:06:19</td>\n",
              "      <td>2020-05-11</td>\n",
              "      <td>NaN</td>\n",
              "      <td>0.222053</td>\n",
              "      <td>0.385900</td>\n",
              "      <td>0.317063</td>\n",
              "      <td>2.828257</td>\n",
              "      <td>NaN</td>\n",
              "      <td>NaN</td>\n",
              "      <td>71.6</td>\n",
              "      <td>0.0</td>\n",
              "    </tr>\n",
              "    <tr>\n",
              "      <th>4</th>\n",
              "      <td>11:06:19</td>\n",
              "      <td>2020-05-21</td>\n",
              "      <td>NaN</td>\n",
              "      <td>0.189151</td>\n",
              "      <td>0.368886</td>\n",
              "      <td>0.270085</td>\n",
              "      <td>2.740386</td>\n",
              "      <td>NaN</td>\n",
              "      <td>NaN</td>\n",
              "      <td>NaN</td>\n",
              "      <td>0.0</td>\n",
              "    </tr>\n",
              "  </tbody>\n",
              "</table>\n",
              "</div>"
            ],
            "text/plain": [
              "   Hourtime       Date  ... Temperature  Precipitation\n",
              "0  11:06:21 2020-04-06  ...        69.8            0.0\n",
              "1  11:06:19 2020-05-01  ...        77.0            0.0\n",
              "2  11:06:21 2020-05-06  ...        80.6            0.0\n",
              "3  11:06:19 2020-05-11  ...        71.6            0.0\n",
              "4  11:06:19 2020-05-21  ...         NaN            0.0\n",
              "\n",
              "[5 rows x 11 columns]"
            ]
          },
          "metadata": {
            "tags": []
          },
          "execution_count": 105
        }
      ]
    }
  ]
}