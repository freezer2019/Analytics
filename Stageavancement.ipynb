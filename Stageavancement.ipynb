{
  "nbformat": 4,
  "nbformat_minor": 0,
  "metadata": {
    "colab": {
      "name": "Stage.ipynb",
      "provenance": [],
      "collapsed_sections": [],
      "mount_file_id": "1QdLsfBsoDOiZVcwDb8nCZANvbXEy2y0l",
      "authorship_tag": "ABX9TyPxNAfAVU6VJiuEgLm7OhG3",
      "include_colab_link": true
    },
    "kernelspec": {
      "name": "python3",
      "display_name": "Python 3"
    },
    "language_info": {
      "name": "python"
    }
  },
  "cells": [
    {
      "cell_type": "markdown",
      "metadata": {
        "id": "view-in-github",
        "colab_type": "text"
      },
      "source": [
        "<a href=\"https://colab.research.google.com/github/freezer2019/Analytics/blob/main/Stageavancement.ipynb\" target=\"_parent\"><img src=\"https://colab.research.google.com/assets/colab-badge.svg\" alt=\"Open In Colab\"/></a>"
      ]
    },
    {
      "cell_type": "code",
      "metadata": {
        "id": "HtTI2v-KVf3o",
        "colab": {
          "base_uri": "https://localhost:8080/"
        },
        "outputId": "cbfef5a2-9082-474c-e275-0a8a7f5b5d01"
      },
      "source": [
        "!pip install geemap"
      ],
      "execution_count": 1,
      "outputs": [
        {
          "output_type": "stream",
          "text": [
            "Requirement already satisfied: geemap in /usr/local/lib/python3.7/dist-packages (0.8.18)\n",
            "Requirement already satisfied: geeadd>=0.5.1 in /usr/local/lib/python3.7/dist-packages (from geemap) (0.5.5)\n",
            "Requirement already satisfied: pycrs in /usr/local/lib/python3.7/dist-packages (from geemap) (1.0.2)\n",
            "Requirement already satisfied: mss in /usr/local/lib/python3.7/dist-packages (from geemap) (6.1.0)\n",
            "Requirement already satisfied: matplotlib in /usr/local/lib/python3.7/dist-packages (from geemap) (3.2.2)\n",
            "Requirement already satisfied: voila in /usr/local/lib/python3.7/dist-packages (from geemap) (0.2.10)\n",
            "Requirement already satisfied: click in /usr/local/lib/python3.7/dist-packages (from geemap) (7.1.2)\n",
            "Requirement already satisfied: bqplot in /usr/local/lib/python3.7/dist-packages (from geemap) (0.12.29)\n",
            "Requirement already satisfied: ipyleaflet>=0.14.0 in /usr/local/lib/python3.7/dist-packages (from geemap) (0.14.0)\n",
            "Requirement already satisfied: sankee in /usr/local/lib/python3.7/dist-packages (from geemap) (0.0.5)\n",
            "Requirement already satisfied: geojson in /usr/local/lib/python3.7/dist-packages (from geemap) (2.5.0)\n",
            "Requirement already satisfied: pillow in /usr/local/lib/python3.7/dist-packages (from geemap) (7.1.2)\n",
            "Requirement already satisfied: ipyevents in /usr/local/lib/python3.7/dist-packages (from geemap) (2.0.1)\n",
            "Requirement already satisfied: folium>=0.11.0 in /usr/local/lib/python3.7/dist-packages (from geemap) (0.12.1)\n",
            "Requirement already satisfied: geocoder in /usr/local/lib/python3.7/dist-packages (from geemap) (1.38.1)\n",
            "Requirement already satisfied: ipynb-py-convert in /usr/local/lib/python3.7/dist-packages (from geemap) (0.4.6)\n",
            "Requirement already satisfied: ffmpeg-python in /usr/local/lib/python3.7/dist-packages (from geemap) (0.2.0)\n",
            "Requirement already satisfied: whiteboxgui in /usr/local/lib/python3.7/dist-packages (from geemap) (0.3.0)\n",
            "Requirement already satisfied: ipytree in /usr/local/lib/python3.7/dist-packages (from geemap) (0.2.1)\n",
            "Requirement already satisfied: googledrivedownloader in /usr/local/lib/python3.7/dist-packages (from geemap) (0.4)\n",
            "Requirement already satisfied: pandas in /usr/local/lib/python3.7/dist-packages (from geemap) (1.1.5)\n",
            "Requirement already satisfied: colour in /usr/local/lib/python3.7/dist-packages (from geemap) (0.1.5)\n",
            "Requirement already satisfied: ipyfilechooser in /usr/local/lib/python3.7/dist-packages (from geemap) (0.4.4)\n",
            "Requirement already satisfied: numpy in /usr/local/lib/python3.7/dist-packages (from geemap) (1.19.5)\n",
            "Requirement already satisfied: earthengine-api>=0.1.230 in /usr/local/lib/python3.7/dist-packages (from geemap) (0.1.272)\n",
            "Requirement already satisfied: pyshp>=2.1.3 in /usr/local/lib/python3.7/dist-packages (from geemap) (2.1.3)\n",
            "Requirement already satisfied: python-box in /usr/local/lib/python3.7/dist-packages (from geemap) (5.3.0)\n",
            "Requirement already satisfied: beautifulsoup4>=4.9.0 in /usr/local/lib/python3.7/dist-packages (from geeadd>=0.5.1->geemap) (4.9.3)\n",
            "Requirement already satisfied: logzero>=1.5.0 in /usr/local/lib/python3.7/dist-packages (from geeadd>=0.5.1->geemap) (1.7.0)\n",
            "Requirement already satisfied: requests>=2.22.0 in /usr/local/lib/python3.7/dist-packages (from geeadd>=0.5.1->geemap) (2.23.0)\n",
            "Requirement already satisfied: kiwisolver>=1.0.1 in /usr/local/lib/python3.7/dist-packages (from matplotlib->geemap) (1.3.1)\n",
            "Requirement already satisfied: python-dateutil>=2.1 in /usr/local/lib/python3.7/dist-packages (from matplotlib->geemap) (2.8.1)\n",
            "Requirement already satisfied: cycler>=0.10 in /usr/local/lib/python3.7/dist-packages (from matplotlib->geemap) (0.10.0)\n",
            "Requirement already satisfied: pyparsing!=2.0.4,!=2.1.2,!=2.1.6,>=2.0.1 in /usr/local/lib/python3.7/dist-packages (from matplotlib->geemap) (2.4.7)\n",
            "Requirement already satisfied: nbconvert<7,>=6.0.0 in /usr/local/lib/python3.7/dist-packages (from voila->geemap) (6.1.0)\n",
            "Requirement already satisfied: nbclient<0.6,>=0.4.0 in /usr/local/lib/python3.7/dist-packages (from voila->geemap) (0.5.3)\n",
            "Requirement already satisfied: jupyter-client<7,>=6.1.3 in /usr/local/lib/python3.7/dist-packages (from voila->geemap) (6.1.12)\n",
            "Requirement already satisfied: jupyter-server<2.0.0,>=0.3.0 in /usr/local/lib/python3.7/dist-packages (from voila->geemap) (1.9.0)\n",
            "Requirement already satisfied: traittypes>=0.0.6 in /usr/local/lib/python3.7/dist-packages (from bqplot->geemap) (0.2.1)\n",
            "Requirement already satisfied: traitlets>=4.3.0 in /usr/local/lib/python3.7/dist-packages (from bqplot->geemap) (5.0.5)\n",
            "Requirement already satisfied: ipywidgets>=7.5.0 in /usr/local/lib/python3.7/dist-packages (from bqplot->geemap) (7.6.3)\n",
            "Requirement already satisfied: ipykernel in /usr/local/lib/python3.7/dist-packages (from sankee->geemap) (4.10.1)\n",
            "Requirement already satisfied: nbformat>=4.2.0 in /usr/local/lib/python3.7/dist-packages (from sankee->geemap) (5.1.3)\n",
            "Requirement already satisfied: plotly in /usr/local/lib/python3.7/dist-packages (from sankee->geemap) (4.4.1)\n",
            "Requirement already satisfied: branca>=0.3.0 in /usr/local/lib/python3.7/dist-packages (from folium>=0.11.0->geemap) (0.4.2)\n",
            "Requirement already satisfied: jinja2>=2.9 in /usr/local/lib/python3.7/dist-packages (from folium>=0.11.0->geemap) (2.11.3)\n",
            "Requirement already satisfied: ratelim in /usr/local/lib/python3.7/dist-packages (from geocoder->geemap) (0.1.6)\n",
            "Requirement already satisfied: six in /usr/local/lib/python3.7/dist-packages (from geocoder->geemap) (1.15.0)\n",
            "Requirement already satisfied: future in /usr/local/lib/python3.7/dist-packages (from geocoder->geemap) (0.16.0)\n",
            "Requirement already satisfied: whitebox in /usr/local/lib/python3.7/dist-packages (from whiteboxgui->geemap) (1.5.1)\n",
            "Requirement already satisfied: pytz>=2017.2 in /usr/local/lib/python3.7/dist-packages (from pandas->geemap) (2018.9)\n",
            "Requirement already satisfied: google-api-python-client<2,>=1.12.1 in /usr/local/lib/python3.7/dist-packages (from earthengine-api>=0.1.230->geemap) (1.12.8)\n",
            "Requirement already satisfied: httplib2<1dev,>=0.9.2 in /usr/local/lib/python3.7/dist-packages (from earthengine-api>=0.1.230->geemap) (0.17.4)\n",
            "Requirement already satisfied: httplib2shim in /usr/local/lib/python3.7/dist-packages (from earthengine-api>=0.1.230->geemap) (0.0.3)\n",
            "Requirement already satisfied: google-auth>=1.4.1 in /usr/local/lib/python3.7/dist-packages (from earthengine-api>=0.1.230->geemap) (1.32.1)\n",
            "Requirement already satisfied: google-cloud-storage in /usr/local/lib/python3.7/dist-packages (from earthengine-api>=0.1.230->geemap) (1.18.1)\n",
            "Requirement already satisfied: google-auth-httplib2>=0.0.3 in /usr/local/lib/python3.7/dist-packages (from earthengine-api>=0.1.230->geemap) (0.0.4)\n",
            "Requirement already satisfied: soupsieve>1.2; python_version >= \"3.0\" in /usr/local/lib/python3.7/dist-packages (from beautifulsoup4>=4.9.0->geeadd>=0.5.1->geemap) (2.2.1)\n",
            "Requirement already satisfied: certifi>=2017.4.17 in /usr/local/lib/python3.7/dist-packages (from requests>=2.22.0->geeadd>=0.5.1->geemap) (2021.5.30)\n",
            "Requirement already satisfied: chardet<4,>=3.0.2 in /usr/local/lib/python3.7/dist-packages (from requests>=2.22.0->geeadd>=0.5.1->geemap) (3.0.4)\n",
            "Requirement already satisfied: idna<3,>=2.5 in /usr/local/lib/python3.7/dist-packages (from requests>=2.22.0->geeadd>=0.5.1->geemap) (2.10)\n",
            "Requirement already satisfied: urllib3!=1.25.0,!=1.25.1,<1.26,>=1.21.1 in /usr/local/lib/python3.7/dist-packages (from requests>=2.22.0->geeadd>=0.5.1->geemap) (1.24.3)\n",
            "Requirement already satisfied: jupyterlab-pygments in /usr/local/lib/python3.7/dist-packages (from nbconvert<7,>=6.0.0->voila->geemap) (0.1.2)\n",
            "Requirement already satisfied: jupyter-core in /usr/local/lib/python3.7/dist-packages (from nbconvert<7,>=6.0.0->voila->geemap) (4.7.1)\n",
            "Requirement already satisfied: testpath in /usr/local/lib/python3.7/dist-packages (from nbconvert<7,>=6.0.0->voila->geemap) (0.5.0)\n",
            "Requirement already satisfied: entrypoints>=0.2.2 in /usr/local/lib/python3.7/dist-packages (from nbconvert<7,>=6.0.0->voila->geemap) (0.3)\n",
            "Requirement already satisfied: pandocfilters>=1.4.1 in /usr/local/lib/python3.7/dist-packages (from nbconvert<7,>=6.0.0->voila->geemap) (1.4.3)\n",
            "Requirement already satisfied: pygments>=2.4.1 in /usr/local/lib/python3.7/dist-packages (from nbconvert<7,>=6.0.0->voila->geemap) (2.6.1)\n",
            "Requirement already satisfied: defusedxml in /usr/local/lib/python3.7/dist-packages (from nbconvert<7,>=6.0.0->voila->geemap) (0.7.1)\n",
            "Requirement already satisfied: bleach in /usr/local/lib/python3.7/dist-packages (from nbconvert<7,>=6.0.0->voila->geemap) (3.3.0)\n",
            "Requirement already satisfied: mistune<2,>=0.8.1 in /usr/local/lib/python3.7/dist-packages (from nbconvert<7,>=6.0.0->voila->geemap) (0.8.4)\n",
            "Requirement already satisfied: nest-asyncio in /usr/local/lib/python3.7/dist-packages (from nbclient<0.6,>=0.4.0->voila->geemap) (1.5.1)\n",
            "Requirement already satisfied: async-generator in /usr/local/lib/python3.7/dist-packages (from nbclient<0.6,>=0.4.0->voila->geemap) (1.10)\n",
            "Requirement already satisfied: pyzmq>=13 in /usr/local/lib/python3.7/dist-packages (from jupyter-client<7,>=6.1.3->voila->geemap) (22.1.0)\n",
            "Requirement already satisfied: tornado>=4.1 in /usr/local/lib/python3.7/dist-packages (from jupyter-client<7,>=6.1.3->voila->geemap) (5.1.1)\n",
            "Requirement already satisfied: anyio<4,>=3.1.0 in /usr/local/lib/python3.7/dist-packages (from jupyter-server<2.0.0,>=0.3.0->voila->geemap) (3.2.1)\n",
            "Requirement already satisfied: prometheus-client in /usr/local/lib/python3.7/dist-packages (from jupyter-server<2.0.0,>=0.3.0->voila->geemap) (0.11.0)\n",
            "Requirement already satisfied: ipython-genutils in /usr/local/lib/python3.7/dist-packages (from jupyter-server<2.0.0,>=0.3.0->voila->geemap) (0.2.0)\n",
            "Requirement already satisfied: argon2-cffi in /usr/local/lib/python3.7/dist-packages (from jupyter-server<2.0.0,>=0.3.0->voila->geemap) (20.1.0)\n",
            "Requirement already satisfied: websocket-client in /usr/local/lib/python3.7/dist-packages (from jupyter-server<2.0.0,>=0.3.0->voila->geemap) (1.1.0)\n",
            "Requirement already satisfied: Send2Trash in /usr/local/lib/python3.7/dist-packages (from jupyter-server<2.0.0,>=0.3.0->voila->geemap) (1.7.1)\n",
            "Requirement already satisfied: terminado>=0.8.3 in /usr/local/lib/python3.7/dist-packages (from jupyter-server<2.0.0,>=0.3.0->voila->geemap) (0.10.1)\n",
            "Requirement already satisfied: requests-unixsocket in /usr/local/lib/python3.7/dist-packages (from jupyter-server<2.0.0,>=0.3.0->voila->geemap) (0.2.0)\n",
            "Requirement already satisfied: jupyterlab-widgets>=1.0.0; python_version >= \"3.6\" in /usr/local/lib/python3.7/dist-packages (from ipywidgets>=7.5.0->bqplot->geemap) (1.0.0)\n",
            "Requirement already satisfied: ipython>=4.0.0; python_version >= \"3.3\" in /usr/local/lib/python3.7/dist-packages (from ipywidgets>=7.5.0->bqplot->geemap) (5.5.0)\n",
            "Requirement already satisfied: widgetsnbextension~=3.5.0 in /usr/local/lib/python3.7/dist-packages (from ipywidgets>=7.5.0->bqplot->geemap) (3.5.1)\n",
            "Requirement already satisfied: jsonschema!=2.5.0,>=2.4 in /usr/local/lib/python3.7/dist-packages (from nbformat>=4.2.0->sankee->geemap) (2.6.0)\n",
            "Requirement already satisfied: retrying>=1.3.3 in /usr/local/lib/python3.7/dist-packages (from plotly->sankee->geemap) (1.3.3)\n",
            "Requirement already satisfied: MarkupSafe>=0.23 in /usr/local/lib/python3.7/dist-packages (from jinja2>=2.9->folium>=0.11.0->geemap) (2.0.1)\n",
            "Requirement already satisfied: decorator in /usr/local/lib/python3.7/dist-packages (from ratelim->geocoder->geemap) (4.4.2)\n",
            "Requirement already satisfied: google-api-core<2dev,>=1.21.0 in /usr/local/lib/python3.7/dist-packages (from google-api-python-client<2,>=1.12.1->earthengine-api>=0.1.230->geemap) (1.26.3)\n",
            "Requirement already satisfied: uritemplate<4dev,>=3.0.0 in /usr/local/lib/python3.7/dist-packages (from google-api-python-client<2,>=1.12.1->earthengine-api>=0.1.230->geemap) (3.0.1)\n",
            "Requirement already satisfied: rsa<5,>=3.1.4; python_version >= \"3.6\" in /usr/local/lib/python3.7/dist-packages (from google-auth>=1.4.1->earthengine-api>=0.1.230->geemap) (4.7.2)\n",
            "Requirement already satisfied: cachetools<5.0,>=2.0.0 in /usr/local/lib/python3.7/dist-packages (from google-auth>=1.4.1->earthengine-api>=0.1.230->geemap) (4.2.2)\n",
            "Requirement already satisfied: setuptools>=40.3.0 in /usr/local/lib/python3.7/dist-packages (from google-auth>=1.4.1->earthengine-api>=0.1.230->geemap) (57.0.0)\n",
            "Requirement already satisfied: pyasn1-modules>=0.2.1 in /usr/local/lib/python3.7/dist-packages (from google-auth>=1.4.1->earthengine-api>=0.1.230->geemap) (0.2.8)\n",
            "Requirement already satisfied: google-resumable-media<0.5.0dev,>=0.3.1 in /usr/local/lib/python3.7/dist-packages (from google-cloud-storage->earthengine-api>=0.1.230->geemap) (0.4.1)\n",
            "Requirement already satisfied: google-cloud-core<2.0dev,>=1.0.0 in /usr/local/lib/python3.7/dist-packages (from google-cloud-storage->earthengine-api>=0.1.230->geemap) (1.0.3)\n",
            "Requirement already satisfied: webencodings in /usr/local/lib/python3.7/dist-packages (from bleach->nbconvert<7,>=6.0.0->voila->geemap) (0.5.1)\n",
            "Requirement already satisfied: packaging in /usr/local/lib/python3.7/dist-packages (from bleach->nbconvert<7,>=6.0.0->voila->geemap) (21.0)\n",
            "Requirement already satisfied: typing-extensions; python_version < \"3.8\" in /usr/local/lib/python3.7/dist-packages (from anyio<4,>=3.1.0->jupyter-server<2.0.0,>=0.3.0->voila->geemap) (3.7.4.3)\n",
            "Requirement already satisfied: sniffio>=1.1 in /usr/local/lib/python3.7/dist-packages (from anyio<4,>=3.1.0->jupyter-server<2.0.0,>=0.3.0->voila->geemap) (1.2.0)\n",
            "Requirement already satisfied: cffi>=1.0.0 in /usr/local/lib/python3.7/dist-packages (from argon2-cffi->jupyter-server<2.0.0,>=0.3.0->voila->geemap) (1.14.6)\n",
            "Requirement already satisfied: ptyprocess; os_name != \"nt\" in /usr/local/lib/python3.7/dist-packages (from terminado>=0.8.3->jupyter-server<2.0.0,>=0.3.0->voila->geemap) (0.7.0)\n",
            "Requirement already satisfied: pexpect; sys_platform != \"win32\" in /usr/local/lib/python3.7/dist-packages (from ipython>=4.0.0; python_version >= \"3.3\"->ipywidgets>=7.5.0->bqplot->geemap) (4.8.0)\n",
            "Requirement already satisfied: prompt-toolkit<2.0.0,>=1.0.4 in /usr/local/lib/python3.7/dist-packages (from ipython>=4.0.0; python_version >= \"3.3\"->ipywidgets>=7.5.0->bqplot->geemap) (1.0.18)\n",
            "Requirement already satisfied: simplegeneric>0.8 in /usr/local/lib/python3.7/dist-packages (from ipython>=4.0.0; python_version >= \"3.3\"->ipywidgets>=7.5.0->bqplot->geemap) (0.8.1)\n",
            "Requirement already satisfied: pickleshare in /usr/local/lib/python3.7/dist-packages (from ipython>=4.0.0; python_version >= \"3.3\"->ipywidgets>=7.5.0->bqplot->geemap) (0.7.5)\n",
            "Requirement already satisfied: notebook>=4.4.1 in /usr/local/lib/python3.7/dist-packages (from widgetsnbextension~=3.5.0->ipywidgets>=7.5.0->bqplot->geemap) (5.3.1)\n",
            "Requirement already satisfied: googleapis-common-protos<2.0dev,>=1.6.0 in /usr/local/lib/python3.7/dist-packages (from google-api-core<2dev,>=1.21.0->google-api-python-client<2,>=1.12.1->earthengine-api>=0.1.230->geemap) (1.53.0)\n",
            "Requirement already satisfied: protobuf>=3.12.0 in /usr/local/lib/python3.7/dist-packages (from google-api-core<2dev,>=1.21.0->google-api-python-client<2,>=1.12.1->earthengine-api>=0.1.230->geemap) (3.17.3)\n",
            "Requirement already satisfied: pyasn1>=0.1.3 in /usr/local/lib/python3.7/dist-packages (from rsa<5,>=3.1.4; python_version >= \"3.6\"->google-auth>=1.4.1->earthengine-api>=0.1.230->geemap) (0.4.8)\n",
            "Requirement already satisfied: pycparser in /usr/local/lib/python3.7/dist-packages (from cffi>=1.0.0->argon2-cffi->jupyter-server<2.0.0,>=0.3.0->voila->geemap) (2.20)\n",
            "Requirement already satisfied: wcwidth in /usr/local/lib/python3.7/dist-packages (from prompt-toolkit<2.0.0,>=1.0.4->ipython>=4.0.0; python_version >= \"3.3\"->ipywidgets>=7.5.0->bqplot->geemap) (0.2.5)\n"
          ],
          "name": "stdout"
        }
      ]
    },
    {
      "cell_type": "code",
      "metadata": {
        "id": "G_LMkxpDVxPl"
      },
      "source": [
        "import ee\n",
        "import geemap\n",
        "import pandas as pd\n",
        "import numpy as np\n",
        "import math\n",
        "import datetime as dt\n",
        "from numpy import log as ln\n",
        "from sklearn.model_selection import train_test_split\n",
        "from google.colab import drive "
      ],
      "execution_count": 2,
      "outputs": []
    },
    {
      "cell_type": "code",
      "metadata": {
        "colab": {
          "base_uri": "https://localhost:8080/"
        },
        "id": "aY_aPoOPyWzE",
        "outputId": "acf06a16-e419-4f44-ca61-22b5605ec059"
      },
      "source": [
        "drive.mount(\"/content/drive\")"
      ],
      "execution_count": 3,
      "outputs": [
        {
          "output_type": "stream",
          "text": [
            "Drive already mounted at /content/drive; to attempt to forcibly remount, call drive.mount(\"/content/drive\", force_remount=True).\n"
          ],
          "name": "stdout"
        }
      ]
    },
    {
      "cell_type": "code",
      "metadata": {
        "colab": {
          "base_uri": "https://localhost:8080/"
        },
        "id": "zskOOjJxV1iH",
        "outputId": "26859e21-6f53-4893-f3fd-9cc06db1c53f"
      },
      "source": [
        "ee.Authenticate()"
      ],
      "execution_count": 4,
      "outputs": [
        {
          "output_type": "stream",
          "text": [
            "To authorize access needed by Earth Engine, open the following URL in a web browser and follow the instructions. If the web browser does not start automatically, please manually browse the URL below.\n",
            "\n",
            "    https://accounts.google.com/o/oauth2/auth?client_id=517222506229-vsmmajv00ul0bs7p89v5m89qs8eb9359.apps.googleusercontent.com&scope=https%3A%2F%2Fwww.googleapis.com%2Fauth%2Fearthengine+https%3A%2F%2Fwww.googleapis.com%2Fauth%2Fdevstorage.full_control&redirect_uri=urn%3Aietf%3Awg%3Aoauth%3A2.0%3Aoob&response_type=code&code_challenge=xPi5d2X8mp_UsQZDu264TBPELxnHxpokhj_S90bK7ts&code_challenge_method=S256\n",
            "\n",
            "The authorization workflow will generate a code, which you should paste in the box below. \n",
            "Enter verification code: 4/1AX4XfWjXYZiif9y80uvR3ivwI7cKZSS-8Hmmf3U9PTizSi8xak0VzLJtlr4\n",
            "\n",
            "Successfully saved authorization token.\n"
          ],
          "name": "stdout"
        }
      ]
    },
    {
      "cell_type": "code",
      "metadata": {
        "id": "dTrDxcYvV797"
      },
      "source": [
        "ee.Initialize()"
      ],
      "execution_count": 5,
      "outputs": []
    },
    {
      "cell_type": "code",
      "metadata": {
        "id": "9pMIiwv3V-7h"
      },
      "source": [
        "Geometrysite1 =ee.Geometry.Polygon([[[-7.762724399566642,32.140949340957775], [-7.763453960418693,32.14083124166395],\n",
        "                                 [-7.763298392295829,32.140399723713095], [-7.762584924697868,32.14051328126656],\n",
        "                                 [-7.762724399566642,32.140949340957775]]])\n",
        "\n",
        "Geometrysite2 =ee.Geometry.Polygon([[[-7.7617802619934,32.14051385752291], [-7.76253128051757,32.140341249986854],\n",
        "                                     [-7.762440085411064,32.140032372528], [-7.761667609214775,32.14021860759168],\n",
        "                                     [-7.7617802619934,32.14051385752291]]])\n",
        "\n",
        "Geometrysite3 =ee.Geometry.Polygon([[[-7.763303756713859,32.14031796218702], [-7.763207197189323,32.13990915345722],\n",
        "                                     [-7.762488365173332,32.14002725394517], [-7.762563467025749,32.14041789293111],\n",
        "                                     [-7.763303756713859,32.14031796218702]]])\n"
      ],
      "execution_count": 6,
      "outputs": []
    },
    {
      "cell_type": "code",
      "metadata": {
        "id": "ekwoiGqxvfNA"
      },
      "source": [
        "def addmaskL8sr(image):\n",
        "\n",
        "  cloudShadowBitMask = (1 << 3);\n",
        "  cloudsBitMask = (1 << 5);\n",
        "  qa = image.select('pixel_qa');\n",
        "  mask1 = qa.bitwiseAnd(cloudShadowBitMask).eq(0)\n",
        "  mask2 = mask1.bitwiseAnd(cloudsBitMask).eq(0)\n",
        "  return image.updateMask(mask2)"
      ],
      "execution_count": 7,
      "outputs": []
    },
    {
      "cell_type": "code",
      "metadata": {
        "id": "zhD2p05rjWaN"
      },
      "source": [
        "satdataset1 = (ee.ImageCollection(\"LANDSAT/LC08/C01/T1_SR\")\n",
        "              .filterBounds (Geometrysite1)\n",
        "              .filter(ee.Filter.date('2020-04-01', '2021-03-31'))\n",
        "              .map(addmaskL8sr)\n",
        "              .map(lambda imag: imag.clip(Geometrysite1)))\n",
        "\n",
        "landsurfacedata1 = (ee.ImageCollection('LANDSAT/LC08/C01/T1_TOA')\n",
        "                   .filterBounds (Geometrysite1)\n",
        "                   .filter(ee.Filter.date('2020-04-01', '2021-03-31'))\n",
        "                  #.filter(ee.Filter.lt('CLOUDY_PIXEL_PERCENTAGE',20))\n",
        "                   .map(lambda imag: imag.clip(Geometrysite1)))\n",
        "\n",
        "\n",
        "satdataset2 = (ee.ImageCollection(\"LANDSAT/LC08/C01/T1_SR\")\n",
        "              .filterBounds (Geometrysite2)\n",
        "              .filter(ee.Filter.date('2020-04-01', '2021-03-31'))\n",
        "              .map(addmaskL8sr)\n",
        "              .map(lambda imag: imag.clip(Geometrysite2)))\n",
        "\n",
        "landsurfacedata2 = (ee.ImageCollection('LANDSAT/LC08/C01/T1_TOA')\n",
        "                   .filterBounds (Geometrysite2)\n",
        "                   .filter(ee.Filter.date('2020-04-01', '2021-03-31'))\n",
        "                  #.filter(ee.Filter.lt('CLOUDY_PIXEL_PERCENTAGE',20))\n",
        "                   .map(lambda imag: imag.clip(Geometrysite2)))\n",
        "\n",
        "\n",
        "satdataset3 = (ee.ImageCollection(\"LANDSAT/LC08/C01/T1_SR\")\n",
        "              .filterBounds (Geometrysite3)\n",
        "              .filter(ee.Filter.date('2020-04-01', '2021-03-31'))\n",
        "              .map(addmaskL8sr)\n",
        "              .map(lambda imag: imag.clip(Geometrysite3)))\n",
        "\n",
        "landsurfacedata3 = (ee.ImageCollection('LANDSAT/LC08/C01/T1_TOA')\n",
        "                   .filterBounds (Geometrysite3)\n",
        "                   .filter(ee.Filter.date('2020-04-01', '2021-03-31'))\n",
        "                  #.filter(ee.Filter.lt('CLOUDY_PIXEL_PERCENTAGE',20))\n",
        "                   .map(lambda imag: imag.clip(Geometrysite3)))"
      ],
      "execution_count": 8,
      "outputs": []
    },
    {
      "cell_type": "markdown",
      "metadata": {
        "id": "BIHZK7LGgTjI"
      },
      "source": [
        "# Nouvelle section"
      ]
    },
    {
      "cell_type": "code",
      "metadata": {
        "id": "QmHNNzNpZCg2"
      },
      "source": [
        "def surfacedataTOA(image):\n",
        "  toa = (image.select(\"B10\")).rename('toa_calcul')\n",
        "  return image.addBands(toa)"
      ],
      "execution_count": 9,
      "outputs": []
    },
    {
      "cell_type": "code",
      "metadata": {
        "id": "wmMZyehws-Gi"
      },
      "source": [
        "def addNDVI(image):\n",
        "  ndvi = image.normalizedDifference(['B5', 'B4']).rename('NDVI')\n",
        "  return image.addBands(ndvi)\n",
        "\n",
        "def addNDWI(image):\n",
        "  ndwi = image.normalizedDifference(['B5', 'B6']).rename('NDWI')\n",
        "  return image.addBands(ndwi)\n",
        "\n",
        "def addSAVI(image):\n",
        "  savi = (((image.select(\"B5\").subtract(image.select(\"B4\"))).divide(image.select(\"B5\").add(image.select(\"B4\")).add(0.5))).multiply(1.5)).rename('SAVI')\n",
        "  return image.addBands(savi)"
      ],
      "execution_count": 10,
      "outputs": []
    },
    {
      "cell_type": "code",
      "metadata": {
        "id": "8mj-gCgaCyT6"
      },
      "source": [
        "def addSWIR2(image):\n",
        "  swir2 = (image.select(\"B7\")).rename('SWIR2_Band')\n",
        "  return image.addBands(swir2)\n",
        "\n",
        "def addSWIR1(image):\n",
        "  swir1 = (image.select(\"B6\")).rename('SWIR1_Band')\n",
        "  return image.addBands(swir1)\n",
        "\n",
        "def addNIR(image):\n",
        "  nir = (image.select(\"B5\")).rename('NIR_Band')\n",
        "  return image.addBands(nir)\n",
        "\n",
        "def addRED(image):\n",
        "  red = (image.select(\"B4\")).rename('RED_Band')\n",
        "  return image.addBands(red)\n",
        "\n",
        "def addGREEN(image):\n",
        "  green = (image.select(\"B3\")).rename('GREEN_Band')\n",
        "  return image.addBands(green)\n",
        "\n",
        "def addBLUE(image):\n",
        "  blue = (image.select(\"B2\")).rename('BLUE_Band')\n",
        "  return image.addBands(blue)"
      ],
      "execution_count": 11,
      "outputs": []
    },
    {
      "cell_type": "code",
      "metadata": {
        "id": "QiZJMMiCNf_c"
      },
      "source": [
        "SatDataset1 = satdataset1.map(addNDVI).map(addNDWI).map(addSAVI).map(addSWIR2).map(addSWIR1).map(addNIR).map(addRED).map(addGREEN).map(addBLUE)\n",
        "LandSurfaceDataset1 = landsurfacedata1.map(surfacedataTOA).map(addNDVI)\n",
        "\n",
        "SatDataset2 = satdataset1.map(addNDVI).map(addNDWI).map(addSAVI).map(addSWIR2).map(addSWIR1).map(addNIR).map(addRED).map(addGREEN).map(addBLUE)\n",
        "LandSurfaceDataset2 = landsurfacedata2.map(surfacedataTOA).map(addNDVI)\n",
        "\n",
        "SatDataset3 = satdataset1.map(addNDVI).map(addNDWI).map(addSAVI).map(addSWIR2).map(addSWIR1).map(addNIR).map(addRED).map(addGREEN).map(addBLUE)\n",
        "LandSurfaceDataset3 = landsurfacedata3.map(surfacedataTOA).map(addNDVI)"
      ],
      "execution_count": 12,
      "outputs": []
    },
    {
      "cell_type": "code",
      "metadata": {
        "colab": {
          "base_uri": "https://localhost:8080/"
        },
        "id": "DkoWbrhCbdQi",
        "outputId": "179f1d30-8d89-4dc0-817f-1bdb42a4fad2"
      },
      "source": [
        "TOA_data_Liste1= LandSurfaceDataset1.toList(LandSurfaceDataset1.size())\n",
        "TOA_data_Liste2= LandSurfaceDataset2.toList(LandSurfaceDataset2.size())\n",
        "TOA_data_Liste3= LandSurfaceDataset3.toList(LandSurfaceDataset3.size())\n",
        "print(TOA_data_Liste1.size().getInfo()),\n",
        "TOA_data_Liste1"
      ],
      "execution_count": 13,
      "outputs": [
        {
          "output_type": "stream",
          "text": [
            "23\n"
          ],
          "name": "stdout"
        },
        {
          "output_type": "execute_result",
          "data": {
            "text/plain": [
              "<ee.ee_list.List at 0x7fa9bdf28d10>"
            ]
          },
          "metadata": {
            "tags": []
          },
          "execution_count": 13
        }
      ]
    },
    {
      "cell_type": "code",
      "metadata": {
        "colab": {
          "base_uri": "https://localhost:8080/"
        },
        "id": "N787AVV2pI6V",
        "outputId": "4b3c674f-33db-4d91-a4b7-9db1c2391eef"
      },
      "source": [
        "NDVI_data_Liste1= SatDataset1.toList(SatDataset1.size())\n",
        "\n",
        "NDVI_data_Liste2= SatDataset2.toList(SatDataset2.size())\n",
        "NDVI_data_Liste3= SatDataset3.toList(SatDataset3.size())\n",
        "\n",
        "print(NDVI_data_Liste3.size().getInfo()),\n",
        "NDVI_data_Liste3"
      ],
      "execution_count": 14,
      "outputs": [
        {
          "output_type": "stream",
          "text": [
            "23\n"
          ],
          "name": "stdout"
        },
        {
          "output_type": "execute_result",
          "data": {
            "text/plain": [
              "<ee.ee_list.List at 0x7fa9bdf44790>"
            ]
          },
          "metadata": {
            "tags": []
          },
          "execution_count": 14
        }
      ]
    },
    {
      "cell_type": "code",
      "metadata": {
        "id": "lZ7U6Tynn774"
      },
      "source": [
        "NDWI_data_Liste1= SatDataset1.toList(SatDataset1.size())\n",
        "NDWI_data_Liste2= SatDataset2.toList(SatDataset2.size())\n",
        "NDWI_data_Liste3= SatDataset3.toList(SatDataset3.size())\n",
        "\n"
      ],
      "execution_count": 15,
      "outputs": []
    },
    {
      "cell_type": "code",
      "metadata": {
        "id": "KHS8MzUxPJUM"
      },
      "source": [
        "SAVI_data_Liste1= SatDataset1.toList(SatDataset1.size())\n",
        "SWIR2_BAND_Liste1= SatDataset1.toList(SatDataset1.size())\n",
        "SWIR1_BAND_Liste1= SatDataset1.toList(SatDataset1.size())\n",
        "NIR_BAND_Liste1= SatDataset1.toList(SatDataset1.size())\n",
        "RED_BAND_Liste1= SatDataset1.toList(SatDataset1.size())\n",
        "GREEN_BAND_Liste1= SatDataset1.toList(SatDataset1.size())\n",
        "BLUE_BAND_Liste1= SatDataset1.toList(SatDataset1.size())\n",
        "\n",
        "SAVI_data_Liste2= SatDataset2.toList(SatDataset2.size())\n",
        "SWIR2_BAND_Liste2= SatDataset2.toList(SatDataset2.size())\n",
        "SWIR1_BAND_Liste2= SatDataset2.toList(SatDataset2.size())\n",
        "NIR_BAND_Liste2= SatDataset2.toList(SatDataset2.size())\n",
        "RED_BAND_Liste2= SatDataset2.toList(SatDataset2.size())\n",
        "GREEN_BAND_Liste2= SatDataset2.toList(SatDataset2.size())\n",
        "BLUE_BAND_Liste2= SatDataset2.toList(SatDataset2.size())\n",
        "\n",
        "SAVI_data_Liste3= SatDataset3.toList(SatDataset3.size())\n",
        "SWIR2_BAND_Liste3= SatDataset3.toList(SatDataset3.size())\n",
        "SWIR1_BAND_Liste3= SatDataset3.toList(SatDataset3.size())\n",
        "NIR_BAND_Liste3= SatDataset3.toList(SatDataset3.size())\n",
        "RED_BAND_Liste3= SatDataset3.toList(SatDataset3.size())\n",
        "GREEN_BAND_Liste3= SatDataset3.toList(SatDataset3.size())\n",
        "BLUE_BAND_Liste3= SatDataset3.toList(SatDataset3.size())"
      ],
      "execution_count": 16,
      "outputs": []
    },
    {
      "cell_type": "code",
      "metadata": {
        "id": "MUNx8Punobxt"
      },
      "source": [
        "TOAListe1 = []\n",
        "TOAListe2 = []\n",
        "TOAListe3 = [] \n",
        "\n",
        "NDVIListe1 = []\n",
        "NDVIListe2 = []\n",
        "NDVIListe3 = []\n",
        "\n",
        "NDWIListe1 = []\n",
        "NDWIListe2 = []\n",
        "NDWIListe3 = []\n",
        "\n",
        "SAVIListe1 = []\n",
        "SAVIListe2 = []\n",
        "SAVIListe3 = []\n",
        "\n",
        "SWIR2Liste1 = []\n",
        "SWIR2Liste2 = []\n",
        "SWIR2Liste3 = []\n",
        "\n",
        "\n",
        "SWIR1Liste1 = []\n",
        "SWIR1Liste2 = []\n",
        "SWIR1Liste3 = []\n",
        "\n",
        "NIRListe1 = []\n",
        "NIRListe2 = []\n",
        "NIRListe3 = []\n",
        "\n",
        "REDListe1 = []\n",
        "REDListe2 = []\n",
        "REDListe3 = []\n",
        "\n",
        "GREENListe1 =[]\n",
        "GREENListe2 =[]\n",
        "GREENListe3 =[]\n",
        "\n",
        "BLUEListe1 = []\n",
        "BLUEListe2 = []\n",
        "BLUEListe3 = []\n",
        "\n",
        "Date1 = []\n",
        "Date2 = []\n",
        "Date3 = []\n",
        "Hourtime1= []\n",
        "Hourtime2= []\n",
        "Hourtime3= []"
      ],
      "execution_count": 17,
      "outputs": []
    },
    {
      "cell_type": "code",
      "metadata": {
        "id": "E83xlx8TUIdW",
        "colab": {
          "base_uri": "https://localhost:8080/",
          "height": 86
        },
        "outputId": "9c959f35-73d9-42b7-9785-d2353dc7a36a"
      },
      "source": [
        "\"\"\"\n",
        "Surface_TOA_Liste1= Dataset11.toList(Dataset11.size())\n",
        "TOAListeB10 = []\n",
        "for i in range(Surface_TOA_Liste1.size().getInfo()):\n",
        "  image=ee.Image(Surface_TOA_Liste1.get(i))\n",
        "  latlon_image = ee.Image.pixelLonLat().addBands(image)\n",
        "  latitudeLogititude = latlon_image.reduceRegion(\n",
        "      reducer=ee.Reducer.toList(),\n",
        "      geometry=Geometry1,\n",
        "      maxPixels=1e15,\n",
        "      scale=30)\n",
        "  TOAListeB10.append(np.mean(latitudeLogititude.getInfo().get('toa_calcul')))\n",
        "\"\"\""
      ],
      "execution_count": 18,
      "outputs": [
        {
          "output_type": "execute_result",
          "data": {
            "application/vnd.google.colaboratory.intrinsic+json": {
              "type": "string"
            },
            "text/plain": [
              "\"\\nSurface_TOA_Liste1= Dataset11.toList(Dataset11.size())\\nTOAListeB10 = []\\nfor i in range(Surface_TOA_Liste1.size().getInfo()):\\n  image=ee.Image(Surface_TOA_Liste1.get(i))\\n  latlon_image = ee.Image.pixelLonLat().addBands(image)\\n  latitudeLogititude = latlon_image.reduceRegion(\\n      reducer=ee.Reducer.toList(),\\n      geometry=Geometry1,\\n      maxPixels=1e15,\\n      scale=30)\\n  TOAListeB10.append(np.mean(latitudeLogititude.getInfo().get('toa_calcul')))\\n\""
            ]
          },
          "metadata": {
            "tags": []
          },
          "execution_count": 18
        }
      ]
    },
    {
      "cell_type": "code",
      "metadata": {
        "id": "YBqhlwcDoc6_",
        "colab": {
          "base_uri": "https://localhost:8080/",
          "height": 137
        },
        "outputId": "c41bb03c-77ff-405b-f9eb-b749457b7387"
      },
      "source": [
        "\"\"\"\n",
        "TOAListe1 = []\n",
        "Brightness_Temperature = np.zeros(TOA_data_Liste1.size().getInfo())\n",
        "for i in range(TOA_data_Liste1.size().getInfo()):\n",
        "    image=ee.Image(TOA_data_Liste1.get(i))\n",
        "    latlon_image = ee.Image.pixelLonLat().addBands(image)\n",
        "    latitudeLogititude = latlon_image.reduceRegion(\n",
        "      reducer=ee.Reducer.toList(),\n",
        "      geometry=Geometry1,\n",
        "      maxPixels=1e15,\n",
        "      scale=30)\n",
        "    coefficient1 = float(image.getInfo()[\"properties\"]['RADIANCE_ADD_BAND_10'])\n",
        "    coefficient2 = float(image.getInfo()[\"properties\"]['RADIANCE_MULT_BAND_10'])\n",
        "    TOA_value = coefficient2 * np.mean(latitudeLogititude.getInfo().get('toa_calcul')) + coefficient1\n",
        "    K1_value = float(image.getInfo()[\"properties\"]['K1_CONSTANT_BAND_10'])\n",
        "    K2_value = float(image.getInfo()[\"properties\"]['K2_CONSTANT_BAND_10'])\n",
        "    Brightness_Temperature[i] = (K2_value / (ln(K1_value/TOA_value) + 1)) - 273.15\n",
        "    TOAListe1.append(latitudeLogititude.getInfo().get('NDVI'))\n",
        "NDVI_min=np.array([min(i) for i in TOAListe1])\n",
        "NDVI_max=np.array([max(i) for i in TOAListe1])\n",
        "NDVI_mean= np.array([np.mean(i) for i in TOAListe1])\n",
        "#PV\n",
        "PV = np.sqrt((NDVI_mean-NDVI_min)/(NDVI_max-NDVI_min))\n",
        "#epsilom\n",
        "epsilon=0.004*PV+0.986\n",
        "# LST\n",
        "LST = (Brightness_Temperature / ( 1 + (0.00115 * Brightness_Temperature / 1.4388)*ln(epsilon) ) )\n",
        "\n",
        "\"\"\""
      ],
      "execution_count": 19,
      "outputs": [
        {
          "output_type": "execute_result",
          "data": {
            "application/vnd.google.colaboratory.intrinsic+json": {
              "type": "string"
            },
            "text/plain": [
              "'\\nTOAListe1 = []\\nBrightness_Temperature = np.zeros(TOA_data_Liste1.size().getInfo())\\nfor i in range(TOA_data_Liste1.size().getInfo()):\\n    image=ee.Image(TOA_data_Liste1.get(i))\\n    latlon_image = ee.Image.pixelLonLat().addBands(image)\\n    latitudeLogititude = latlon_image.reduceRegion(\\n      reducer=ee.Reducer.toList(),\\n      geometry=Geometry1,\\n      maxPixels=1e15,\\n      scale=30)\\n    coefficient1 = float(image.getInfo()[\"properties\"][\\'RADIANCE_ADD_BAND_10\\'])\\n    coefficient2 = float(image.getInfo()[\"properties\"][\\'RADIANCE_MULT_BAND_10\\'])\\n    TOA_value = coefficient2 * np.mean(latitudeLogititude.getInfo().get(\\'toa_calcul\\')) + coefficient1\\n    K1_value = float(image.getInfo()[\"properties\"][\\'K1_CONSTANT_BAND_10\\'])\\n    K2_value = float(image.getInfo()[\"properties\"][\\'K2_CONSTANT_BAND_10\\'])\\n    Brightness_Temperature[i] = (K2_value / (ln(K1_value/TOA_value) + 1)) - 273.15\\n    TOAListe1.append(latitudeLogititude.getInfo().get(\\'NDVI\\'))\\nNDVI_min=np.array([min(i) for i in TOAListe1])\\nNDVI_max=np.array([max(i) for i in TOAListe1])\\nNDVI_mean= np.array([np.mean(i) for i in TOAListe1])\\n#PV\\nPV = np.sqrt((NDVI_mean-NDVI_min)/(NDVI_max-NDVI_min))\\n#epsilom\\nepsilon=0.004*PV+0.986\\n# LST\\nLST = (Brightness_Temperature / ( 1 + (0.00115 * Brightness_Temperature / 1.4388)*ln(epsilon) ) )\\n\\n'"
            ]
          },
          "metadata": {
            "tags": []
          },
          "execution_count": 19
        }
      ]
    },
    {
      "cell_type": "markdown",
      "metadata": {
        "id": "LjK3NQLcHNiU"
      },
      "source": [
        "LST = (BT / (1 + (0.00115 * BT / 1.4388) * Ln(ε)))\n",
        "\n"
      ]
    },
    {
      "cell_type": "code",
      "metadata": {
        "id": "JGQXUOIEca_v"
      },
      "source": [
        "for i in range(NDVI_data_Liste1.size().getInfo()):\n",
        "  image=ee.Image(NDVI_data_Liste1.get(i))\n",
        "  latlon_image = ee.Image.pixelLonLat().addBands(image)\n",
        "  latitudeLogititude = latlon_image.reduceRegion(\n",
        "      reducer=ee.Reducer.toList(),\n",
        "      geometry=Geometrysite1,\n",
        "      maxPixels=1e15,\n",
        "      scale=30)\n",
        "  NDVIListe1.append(np.mean(latitudeLogititude.getInfo().get('NDVI')))\n",
        "  Date1.append(image.getInfo()[\"properties\"]['SENSING_TIME'])"
      ],
      "execution_count": 20,
      "outputs": []
    },
    {
      "cell_type": "code",
      "metadata": {
        "colab": {
          "base_uri": "https://localhost:8080/"
        },
        "id": "Dgp1hnAw9zs6",
        "outputId": "ea017898-0393-4f39-dedf-5c0c077e1651"
      },
      "source": [
        "for i in range(NDVI_data_Liste2.size().getInfo()):\n",
        "  image=ee.Image(NDVI_data_Liste2.get(i))\n",
        "  latlon_image = ee.Image.pixelLonLat().addBands(image)\n",
        "  latitudeLogititude = latlon_image.reduceRegion(\n",
        "      reducer=ee.Reducer.toList(),\n",
        "      geometry=Geometrysite2,\n",
        "      maxPixels=1e15,\n",
        "      scale=30)\n",
        "  NDVIListe2.append(np.mean(latitudeLogititude.getInfo().get('NDVI')))\n",
        "  Date2.append(image.getInfo()[\"properties\"]['SENSING_TIME'])"
      ],
      "execution_count": 21,
      "outputs": [
        {
          "output_type": "stream",
          "text": [
            "/usr/local/lib/python3.7/dist-packages/numpy/core/fromnumeric.py:3373: RuntimeWarning: Mean of empty slice.\n",
            "  out=out, **kwargs)\n",
            "/usr/local/lib/python3.7/dist-packages/numpy/core/_methods.py:170: RuntimeWarning: invalid value encountered in double_scalars\n",
            "  ret = ret.dtype.type(ret / rcount)\n"
          ],
          "name": "stderr"
        }
      ]
    },
    {
      "cell_type": "code",
      "metadata": {
        "id": "n3UTCN1099F_"
      },
      "source": [
        "for i in range(NDVI_data_Liste3.size().getInfo()):\n",
        "  image=ee.Image(NDVI_data_Liste3.get(i))\n",
        "  latlon_image = ee.Image.pixelLonLat().addBands(image)\n",
        "  latitudeLogititude = latlon_image.reduceRegion(\n",
        "      reducer=ee.Reducer.toList(),\n",
        "      geometry=Geometrysite3,\n",
        "      maxPixels=1e15,\n",
        "      scale=30)\n",
        "  NDVIListe3.append(np.mean(latitudeLogititude.getInfo().get('NDVI')))\n",
        "  Date3.append(image.getInfo()[\"properties\"]['SENSING_TIME'])"
      ],
      "execution_count": 22,
      "outputs": []
    },
    {
      "cell_type": "code",
      "metadata": {
        "id": "dI7efVe4QAVK"
      },
      "source": [
        "for i in range(NDWI_data_Liste1.size().getInfo()):\n",
        "  image=ee.Image(NDWI_data_Liste1.get(i))\n",
        "  latlon_image = ee.Image.pixelLonLat().addBands(image)\n",
        "  latitudeLogititude = latlon_image.reduceRegion(\n",
        "      reducer=ee.Reducer.toList(),\n",
        "      geometry=Geometrysite1,\n",
        "      maxPixels=1e15,\n",
        "      scale=30)\n",
        "  NDWIListe1.append(np.mean(latitudeLogititude.getInfo().get('NDWI')))"
      ],
      "execution_count": 23,
      "outputs": []
    },
    {
      "cell_type": "code",
      "metadata": {
        "colab": {
          "base_uri": "https://localhost:8080/"
        },
        "id": "ysY3Bgsk-NtX",
        "outputId": "de8bb94f-ec48-44e1-c8cd-08280418e7b4"
      },
      "source": [
        "for i in range(NDWI_data_Liste2.size().getInfo()):\n",
        "  image=ee.Image(NDWI_data_Liste2.get(i))\n",
        "  latlon_image = ee.Image.pixelLonLat().addBands(image)\n",
        "  latitudeLogititude = latlon_image.reduceRegion(\n",
        "      reducer=ee.Reducer.toList(),\n",
        "      geometry=Geometrysite2,\n",
        "      maxPixels=1e15,\n",
        "      scale=30)\n",
        "  NDWIListe2.append(np.mean(latitudeLogititude.getInfo().get('NDWI')))"
      ],
      "execution_count": 24,
      "outputs": [
        {
          "output_type": "stream",
          "text": [
            "/usr/local/lib/python3.7/dist-packages/numpy/core/fromnumeric.py:3373: RuntimeWarning: Mean of empty slice.\n",
            "  out=out, **kwargs)\n",
            "/usr/local/lib/python3.7/dist-packages/numpy/core/_methods.py:170: RuntimeWarning: invalid value encountered in double_scalars\n",
            "  ret = ret.dtype.type(ret / rcount)\n"
          ],
          "name": "stderr"
        }
      ]
    },
    {
      "cell_type": "code",
      "metadata": {
        "id": "Gv_SSAa7-fnb"
      },
      "source": [
        "for i in range(NDWI_data_Liste3.size().getInfo()):\n",
        "  image=ee.Image(NDWI_data_Liste3.get(i))\n",
        "  latlon_image = ee.Image.pixelLonLat().addBands(image)\n",
        "  latitudeLogititude = latlon_image.reduceRegion(\n",
        "      reducer=ee.Reducer.toList(),\n",
        "      geometry=Geometrysite3,\n",
        "      maxPixels=1e15,\n",
        "      scale=30)\n",
        "  NDWIListe3.append(np.mean(latitudeLogititude.getInfo().get('NDWI')))"
      ],
      "execution_count": 25,
      "outputs": []
    },
    {
      "cell_type": "code",
      "metadata": {
        "id": "ku93n9N_QJaZ"
      },
      "source": [
        "for i in range(SAVI_data_Liste1.size().getInfo()):\n",
        "  image=ee.Image(SAVI_data_Liste1.get(i))\n",
        "  latlon_image = ee.Image.pixelLonLat().addBands(image)\n",
        "  latitudeLogititude = latlon_image.reduceRegion(\n",
        "      reducer=ee.Reducer.toList(),\n",
        "      geometry=Geometrysite1,\n",
        "      maxPixels=1e15,\n",
        "      scale=30)\n",
        "  SAVIListe1.append(np.mean(latitudeLogititude.getInfo().get('SAVI')))"
      ],
      "execution_count": 26,
      "outputs": []
    },
    {
      "cell_type": "code",
      "metadata": {
        "colab": {
          "base_uri": "https://localhost:8080/"
        },
        "id": "em_Szefc-0eP",
        "outputId": "36e02a84-6bd6-4759-8079-64f845759275"
      },
      "source": [
        "for i in range(SAVI_data_Liste2.size().getInfo()):\n",
        "  image=ee.Image(SAVI_data_Liste2.get(i))\n",
        "  latlon_image = ee.Image.pixelLonLat().addBands(image)\n",
        "  latitudeLogititude = latlon_image.reduceRegion(\n",
        "      reducer=ee.Reducer.toList(),\n",
        "      geometry=Geometrysite2,\n",
        "      maxPixels=1e15,\n",
        "      scale=30)\n",
        "  SAVIListe2.append(np.mean(latitudeLogititude.getInfo().get('SAVI')))"
      ],
      "execution_count": 27,
      "outputs": [
        {
          "output_type": "stream",
          "text": [
            "/usr/local/lib/python3.7/dist-packages/numpy/core/fromnumeric.py:3373: RuntimeWarning: Mean of empty slice.\n",
            "  out=out, **kwargs)\n",
            "/usr/local/lib/python3.7/dist-packages/numpy/core/_methods.py:170: RuntimeWarning: invalid value encountered in double_scalars\n",
            "  ret = ret.dtype.type(ret / rcount)\n"
          ],
          "name": "stderr"
        }
      ]
    },
    {
      "cell_type": "code",
      "metadata": {
        "id": "xLXjWBr0_Aei"
      },
      "source": [
        "for i in range(SAVI_data_Liste3.size().getInfo()):\n",
        "  image=ee.Image(SAVI_data_Liste3.get(i))\n",
        "  latlon_image = ee.Image.pixelLonLat().addBands(image)\n",
        "  latitudeLogititude = latlon_image.reduceRegion(\n",
        "      reducer=ee.Reducer.toList(),\n",
        "      geometry=Geometrysite3,\n",
        "      maxPixels=1e15,\n",
        "      scale=30)\n",
        "  SAVIListe3.append(np.mean(latitudeLogititude.getInfo().get('SAVI')))"
      ],
      "execution_count": 28,
      "outputs": []
    },
    {
      "cell_type": "code",
      "metadata": {
        "id": "YGwWmyaeHGCr"
      },
      "source": [
        "for i in range(SWIR2_BAND_Liste1.size().getInfo()):\n",
        "  image=ee.Image(SWIR2_BAND_Liste1.get(i))\n",
        "  latlon_image = ee.Image.pixelLonLat().addBands(image)\n",
        "  latitudeLogititude = latlon_image.reduceRegion(\n",
        "      reducer=ee.Reducer.toList(),\n",
        "      geometry=Geometrysite1,\n",
        "      maxPixels=1e15,\n",
        "      scale=30)\n",
        "  SWIR2Liste1.append(np.mean(latitudeLogititude.getInfo().get('SWIR2_Band')))"
      ],
      "execution_count": 29,
      "outputs": []
    },
    {
      "cell_type": "code",
      "metadata": {
        "colab": {
          "base_uri": "https://localhost:8080/"
        },
        "id": "8NS3rO6G_XPX",
        "outputId": "59ba8ab3-61c1-4235-be72-0ec447c53190"
      },
      "source": [
        "for i in range(SWIR2_BAND_Liste2.size().getInfo()):\n",
        "  image=ee.Image(SWIR2_BAND_Liste2.get(i))\n",
        "  latlon_image = ee.Image.pixelLonLat().addBands(image)\n",
        "  latitudeLogititude = latlon_image.reduceRegion(\n",
        "      reducer=ee.Reducer.toList(),\n",
        "      geometry=Geometrysite2,\n",
        "      maxPixels=1e15,\n",
        "      scale=30)\n",
        "  SWIR2Liste2.append(np.mean(latitudeLogititude.getInfo().get('SWIR2_Band')))"
      ],
      "execution_count": 30,
      "outputs": [
        {
          "output_type": "stream",
          "text": [
            "/usr/local/lib/python3.7/dist-packages/numpy/core/fromnumeric.py:3373: RuntimeWarning: Mean of empty slice.\n",
            "  out=out, **kwargs)\n",
            "/usr/local/lib/python3.7/dist-packages/numpy/core/_methods.py:170: RuntimeWarning: invalid value encountered in double_scalars\n",
            "  ret = ret.dtype.type(ret / rcount)\n"
          ],
          "name": "stderr"
        }
      ]
    },
    {
      "cell_type": "code",
      "metadata": {
        "id": "RjLUHVZC_oaw"
      },
      "source": [
        "for i in range(SWIR2_BAND_Liste3.size().getInfo()):\n",
        "  image=ee.Image(SWIR2_BAND_Liste3.get(i))\n",
        "  latlon_image = ee.Image.pixelLonLat().addBands(image)\n",
        "  latitudeLogititude = latlon_image.reduceRegion(\n",
        "      reducer=ee.Reducer.toList(),\n",
        "      geometry=Geometrysite3,\n",
        "      maxPixels=1e15,\n",
        "      scale=30)\n",
        "  SWIR2Liste3.append(np.mean(latitudeLogititude.getInfo().get('SWIR2_Band')))"
      ],
      "execution_count": 31,
      "outputs": []
    },
    {
      "cell_type": "code",
      "metadata": {
        "id": "jWsqAncxHp-_"
      },
      "source": [
        "for i in range(SWIR1_BAND_Liste1.size().getInfo()):\n",
        "  image=ee.Image(SWIR1_BAND_Liste1.get(i))\n",
        "  latlon_image = ee.Image.pixelLonLat().addBands(image)\n",
        "  latitudeLogititude = latlon_image.reduceRegion(\n",
        "      reducer=ee.Reducer.toList(),\n",
        "      geometry=Geometrysite1,\n",
        "      maxPixels=1e15,\n",
        "      scale=30)\n",
        "  SWIR1Liste1.append(np.mean(latitudeLogititude.getInfo().get('SWIR1_Band')))"
      ],
      "execution_count": 32,
      "outputs": []
    },
    {
      "cell_type": "code",
      "metadata": {
        "colab": {
          "base_uri": "https://localhost:8080/"
        },
        "id": "hAQo5_67_2wm",
        "outputId": "6c53056b-3ba6-4286-c2c1-8f2a0ecc0f5c"
      },
      "source": [
        "for i in range(SWIR1_BAND_Liste2.size().getInfo()):\n",
        "  image=ee.Image(SWIR1_BAND_Liste2.get(i))\n",
        "  latlon_image = ee.Image.pixelLonLat().addBands(image)\n",
        "  latitudeLogititude = latlon_image.reduceRegion(\n",
        "      reducer=ee.Reducer.toList(),\n",
        "      geometry=Geometrysite2,\n",
        "      maxPixels=1e15,\n",
        "      scale=30)\n",
        "  SWIR1Liste2.append(np.mean(latitudeLogititude.getInfo().get('SWIR1_Band')))"
      ],
      "execution_count": 33,
      "outputs": [
        {
          "output_type": "stream",
          "text": [
            "/usr/local/lib/python3.7/dist-packages/numpy/core/fromnumeric.py:3373: RuntimeWarning: Mean of empty slice.\n",
            "  out=out, **kwargs)\n",
            "/usr/local/lib/python3.7/dist-packages/numpy/core/_methods.py:170: RuntimeWarning: invalid value encountered in double_scalars\n",
            "  ret = ret.dtype.type(ret / rcount)\n"
          ],
          "name": "stderr"
        }
      ]
    },
    {
      "cell_type": "code",
      "metadata": {
        "id": "lfTXdzAuAAkR"
      },
      "source": [
        "for i in range(SWIR1_BAND_Liste3.size().getInfo()):\n",
        "  image=ee.Image(SWIR1_BAND_Liste3.get(i))\n",
        "  latlon_image = ee.Image.pixelLonLat().addBands(image)\n",
        "  latitudeLogititude = latlon_image.reduceRegion(\n",
        "      reducer=ee.Reducer.toList(),\n",
        "      geometry=Geometrysite3,\n",
        "      maxPixels=1e15,\n",
        "      scale=30)\n",
        "  SWIR1Liste3.append(np.mean(latitudeLogititude.getInfo().get('SWIR1_Band')))"
      ],
      "execution_count": 34,
      "outputs": []
    },
    {
      "cell_type": "code",
      "metadata": {
        "id": "0j8DkdB9HxdI"
      },
      "source": [
        "for i in range(NIR_BAND_Liste1.size().getInfo()):\n",
        "  image=ee.Image(NIR_BAND_Liste1.get(i))\n",
        "  latlon_image = ee.Image.pixelLonLat().addBands(image)\n",
        "  latitudeLogititude = latlon_image.reduceRegion(\n",
        "      reducer=ee.Reducer.toList(),\n",
        "      geometry=Geometrysite1,\n",
        "      maxPixels=1e15,\n",
        "      scale=30)\n",
        "  NIRListe1.append(np.mean(latitudeLogititude.getInfo().get('NIR_Band')))"
      ],
      "execution_count": 35,
      "outputs": []
    },
    {
      "cell_type": "code",
      "metadata": {
        "colab": {
          "base_uri": "https://localhost:8080/"
        },
        "id": "nqH36vFlAML3",
        "outputId": "8d52d4b2-f79f-4536-f055-ab58ee73f137"
      },
      "source": [
        "for i in range(NIR_BAND_Liste2.size().getInfo()):\n",
        "  image=ee.Image(NIR_BAND_Liste2.get(i))\n",
        "  latlon_image = ee.Image.pixelLonLat().addBands(image)\n",
        "  latitudeLogititude = latlon_image.reduceRegion(\n",
        "      reducer=ee.Reducer.toList(),\n",
        "      geometry=Geometrysite2,\n",
        "      maxPixels=1e15,\n",
        "      scale=30)\n",
        "  NIRListe2.append(np.mean(latitudeLogititude.getInfo().get('NIR_Band')))"
      ],
      "execution_count": 36,
      "outputs": [
        {
          "output_type": "stream",
          "text": [
            "/usr/local/lib/python3.7/dist-packages/numpy/core/fromnumeric.py:3373: RuntimeWarning: Mean of empty slice.\n",
            "  out=out, **kwargs)\n",
            "/usr/local/lib/python3.7/dist-packages/numpy/core/_methods.py:170: RuntimeWarning: invalid value encountered in double_scalars\n",
            "  ret = ret.dtype.type(ret / rcount)\n"
          ],
          "name": "stderr"
        }
      ]
    },
    {
      "cell_type": "code",
      "metadata": {
        "id": "F67S4VAVAYRU"
      },
      "source": [
        "for i in range(NIR_BAND_Liste3.size().getInfo()):\n",
        "  image=ee.Image(NIR_BAND_Liste3.get(i))\n",
        "  latlon_image = ee.Image.pixelLonLat().addBands(image)\n",
        "  latitudeLogititude = latlon_image.reduceRegion(\n",
        "      reducer=ee.Reducer.toList(),\n",
        "      geometry=Geometrysite3,\n",
        "      maxPixels=1e15,\n",
        "      scale=30)\n",
        "  NIRListe3.append(np.mean(latitudeLogititude.getInfo().get('NIR_Band')))"
      ],
      "execution_count": 37,
      "outputs": []
    },
    {
      "cell_type": "code",
      "metadata": {
        "id": "o7WVUgDfH5qN"
      },
      "source": [
        "for i in range(RED_BAND_Liste1.size().getInfo()):\n",
        "  image=ee.Image(RED_BAND_Liste1.get(i))\n",
        "  latlon_image = ee.Image.pixelLonLat().addBands(image)\n",
        "  latitudeLogititude = latlon_image.reduceRegion(\n",
        "      reducer=ee.Reducer.toList(),\n",
        "      geometry=Geometrysite1,\n",
        "      maxPixels=1e15,\n",
        "      scale=30)\n",
        "  REDListe1.append(np.mean(latitudeLogititude.getInfo().get('RED_Band')))"
      ],
      "execution_count": 38,
      "outputs": []
    },
    {
      "cell_type": "code",
      "metadata": {
        "colab": {
          "base_uri": "https://localhost:8080/"
        },
        "id": "QIyoCRo2AncB",
        "outputId": "e457f170-b616-4293-ff26-740da9be4310"
      },
      "source": [
        "for i in range(RED_BAND_Liste2.size().getInfo()):\n",
        "  image=ee.Image(RED_BAND_Liste2.get(i))\n",
        "  latlon_image = ee.Image.pixelLonLat().addBands(image)\n",
        "  latitudeLogititude = latlon_image.reduceRegion(\n",
        "      reducer=ee.Reducer.toList(),\n",
        "      geometry=Geometrysite2,\n",
        "      maxPixels=1e15,\n",
        "      scale=30)\n",
        "  REDListe2.append(np.mean(latitudeLogititude.getInfo().get('RED_Band')))"
      ],
      "execution_count": 39,
      "outputs": [
        {
          "output_type": "stream",
          "text": [
            "/usr/local/lib/python3.7/dist-packages/numpy/core/fromnumeric.py:3373: RuntimeWarning: Mean of empty slice.\n",
            "  out=out, **kwargs)\n",
            "/usr/local/lib/python3.7/dist-packages/numpy/core/_methods.py:170: RuntimeWarning: invalid value encountered in double_scalars\n",
            "  ret = ret.dtype.type(ret / rcount)\n"
          ],
          "name": "stderr"
        }
      ]
    },
    {
      "cell_type": "code",
      "metadata": {
        "id": "NXjV1VaUAsS0"
      },
      "source": [
        "for i in range(RED_BAND_Liste3.size().getInfo()):\n",
        "  image=ee.Image(RED_BAND_Liste3.get(i))\n",
        "  latlon_image = ee.Image.pixelLonLat().addBands(image)\n",
        "  latitudeLogititude = latlon_image.reduceRegion(\n",
        "      reducer=ee.Reducer.toList(),\n",
        "      geometry=Geometrysite3,\n",
        "      maxPixels=1e15,\n",
        "      scale=30)\n",
        "  REDListe3.append(np.mean(latitudeLogititude.getInfo().get('RED_Band')))"
      ],
      "execution_count": 40,
      "outputs": []
    },
    {
      "cell_type": "code",
      "metadata": {
        "id": "PMLHZ2EpICg6"
      },
      "source": [
        "for i in range(GREEN_BAND_Liste1.size().getInfo()):\n",
        "  image=ee.Image(GREEN_BAND_Liste1.get(i))\n",
        "  latlon_image = ee.Image.pixelLonLat().addBands(image)\n",
        "  latitudeLogititude = latlon_image.reduceRegion(\n",
        "      reducer=ee.Reducer.toList(),\n",
        "      geometry=Geometrysite1,\n",
        "      maxPixels=1e15,\n",
        "      scale=30)\n",
        "  GREENListe1.append(np.mean(latitudeLogititude.getInfo().get('GREEN_Band')))"
      ],
      "execution_count": 41,
      "outputs": []
    },
    {
      "cell_type": "code",
      "metadata": {
        "colab": {
          "base_uri": "https://localhost:8080/"
        },
        "id": "_8TL9MqzA4LP",
        "outputId": "6399dd27-41e1-444a-e7ce-53093f35e248"
      },
      "source": [
        "for i in range(GREEN_BAND_Liste2.size().getInfo()):\n",
        "  image=ee.Image(GREEN_BAND_Liste2.get(i))\n",
        "  latlon_image = ee.Image.pixelLonLat().addBands(image)\n",
        "  latitudeLogititude = latlon_image.reduceRegion(\n",
        "      reducer=ee.Reducer.toList(),\n",
        "      geometry=Geometrysite2,\n",
        "      maxPixels=1e15,\n",
        "      scale=30)\n",
        "  GREENListe2.append(np.mean(latitudeLogititude.getInfo().get('GREEN_Band')))"
      ],
      "execution_count": 42,
      "outputs": [
        {
          "output_type": "stream",
          "text": [
            "/usr/local/lib/python3.7/dist-packages/numpy/core/fromnumeric.py:3373: RuntimeWarning: Mean of empty slice.\n",
            "  out=out, **kwargs)\n",
            "/usr/local/lib/python3.7/dist-packages/numpy/core/_methods.py:170: RuntimeWarning: invalid value encountered in double_scalars\n",
            "  ret = ret.dtype.type(ret / rcount)\n"
          ],
          "name": "stderr"
        }
      ]
    },
    {
      "cell_type": "code",
      "metadata": {
        "id": "FHmW1P32A9UJ"
      },
      "source": [
        "for i in range(GREEN_BAND_Liste3.size().getInfo()):\n",
        "  image=ee.Image(GREEN_BAND_Liste3.get(i))\n",
        "  latlon_image = ee.Image.pixelLonLat().addBands(image)\n",
        "  latitudeLogititude = latlon_image.reduceRegion(\n",
        "      reducer=ee.Reducer.toList(),\n",
        "      geometry=Geometrysite3,\n",
        "      maxPixels=1e15,\n",
        "      scale=30)\n",
        "  GREENListe3.append(np.mean(latitudeLogititude.getInfo().get('GREEN_Band')))"
      ],
      "execution_count": 43,
      "outputs": []
    },
    {
      "cell_type": "code",
      "metadata": {
        "id": "WNetvKzSILPh"
      },
      "source": [
        "for i in range(BLUE_BAND_Liste1.size().getInfo()):\n",
        "  image=ee.Image(BLUE_BAND_Liste1.get(i))\n",
        "  latlon_image = ee.Image.pixelLonLat().addBands(image)\n",
        "  latitudeLogititude = latlon_image.reduceRegion(\n",
        "      reducer=ee.Reducer.toList(),\n",
        "      geometry=Geometrysite1,\n",
        "      maxPixels=1e15,\n",
        "      scale=30)\n",
        "  BLUEListe1.append(np.mean(latitudeLogititude.getInfo().get('BLUE_Band')))"
      ],
      "execution_count": 44,
      "outputs": []
    },
    {
      "cell_type": "code",
      "metadata": {
        "colab": {
          "base_uri": "https://localhost:8080/"
        },
        "id": "lu516SxhBG_h",
        "outputId": "547cd39c-5b54-4722-b4a6-cfc830fd45ca"
      },
      "source": [
        "for i in range(BLUE_BAND_Liste2.size().getInfo()):\n",
        "  image=ee.Image(BLUE_BAND_Liste2.get(i))\n",
        "  latlon_image = ee.Image.pixelLonLat().addBands(image)\n",
        "  latitudeLogititude = latlon_image.reduceRegion(\n",
        "      reducer=ee.Reducer.toList(),\n",
        "      geometry=Geometrysite2,\n",
        "      maxPixels=1e15,\n",
        "      scale=30)\n",
        "  BLUEListe2.append(np.mean(latitudeLogititude.getInfo().get('BLUE_Band')))"
      ],
      "execution_count": 45,
      "outputs": [
        {
          "output_type": "stream",
          "text": [
            "/usr/local/lib/python3.7/dist-packages/numpy/core/fromnumeric.py:3373: RuntimeWarning: Mean of empty slice.\n",
            "  out=out, **kwargs)\n",
            "/usr/local/lib/python3.7/dist-packages/numpy/core/_methods.py:170: RuntimeWarning: invalid value encountered in double_scalars\n",
            "  ret = ret.dtype.type(ret / rcount)\n"
          ],
          "name": "stderr"
        }
      ]
    },
    {
      "cell_type": "code",
      "metadata": {
        "id": "HRx2gQPcBM6X"
      },
      "source": [
        "for i in range(BLUE_BAND_Liste3.size().getInfo()):\n",
        "  image=ee.Image(BLUE_BAND_Liste3.get(i))\n",
        "  latlon_image = ee.Image.pixelLonLat().addBands(image)\n",
        "  latitudeLogititude = latlon_image.reduceRegion(\n",
        "      reducer=ee.Reducer.toList(),\n",
        "      geometry=Geometrysite3,\n",
        "      maxPixels=1e15,\n",
        "      scale=30)\n",
        "  BLUEListe3.append(np.mean(latitudeLogititude.getInfo().get('BLUE_Band')))"
      ],
      "execution_count": 46,
      "outputs": []
    },
    {
      "cell_type": "code",
      "metadata": {
        "id": "ZIkiOLuFQW-h"
      },
      "source": [
        "column_names = ['Hourtime', 'Date', 'Air_temperature', 'Soil_temperature', 'Precipitation', 'BLUE_BAND', 'GREEN_BAND', 'RED_BAND', 'NIR_BAND', 'SWIR1_BAND', 'SWIR2_BAND', 'NDVI', 'NDWI', 'SAVI', 'Leaf_Area_index', 'Land_surface_temperature', 'Volumetric_Soil_Moisture']"
      ],
      "execution_count": 47,
      "outputs": []
    },
    {
      "cell_type": "code",
      "metadata": {
        "id": "tTP8Z55WQ0HI"
      },
      "source": [
        "Datasetintermediairesite1 = pd.DataFrame(columns = column_names)\n",
        "Datasetintermediairesite2 = pd.DataFrame(columns = column_names)\n",
        "Datasetintermediairesite3 = pd.DataFrame(columns = column_names)"
      ],
      "execution_count": 48,
      "outputs": []
    },
    {
      "cell_type": "code",
      "metadata": {
        "id": "8ZvEkWclTqKH"
      },
      "source": [
        "Date11 = [ x[0:16] for x in Date1 ]\n",
        "Date11 = [x.replace('T', '') for x in Date11]\n",
        "Datetime1 = [ x[0:10] for x in Date11 ]\n",
        "Hourtime1 = [x[10:16] for x in Date11]\n",
        "Hourtime1 = [ x[:2] + ':' +  '00' for x in Hourtime1 ]\n",
        "\n",
        "Date22 = [ x[0:16] for x in Date2 ]\n",
        "Date22 = [x.replace('T', '') for x in Date22]\n",
        "Datetime2 = [ x[0:10] for x in Date22 ]\n",
        "Hourtime2 = [x[10:16] for x in Date22]\n",
        "Hourtime2 = [ x[:2] + ':' +  '00' for x in Hourtime2 ]\n",
        "\n",
        "Date33 = [ x[0:16] for x in Date3 ]\n",
        "Date33 = [x.replace('T', '') for x in Date33]\n",
        "Datetime3 = [ x[0:10] for x in Date33 ]\n",
        "Hourtime3 = [x[10:16] for x in Date33]\n",
        "Hourtime3 = [ x[:2] + ':' +  '00' for x in Hourtime3 ]"
      ],
      "execution_count": 49,
      "outputs": []
    },
    {
      "cell_type": "code",
      "metadata": {
        "id": "JbHf6uUpI0V6"
      },
      "source": [
        "Datasetintermediairesite1[\"NDVI\"] = NDVIListe1\n",
        "Datasetintermediairesite1[\"NDWI\"] = NDWIListe1\n",
        "Datasetintermediairesite1[\"SAVI\"] = SAVIListe1\n",
        "Datasetintermediairesite1[\"BLUE_BAND\"] = BLUEListe1\n",
        "Datasetintermediairesite1[\"GREEN_BAND\"] = GREENListe1\n",
        "Datasetintermediairesite1[\"RED_BAND\"] = REDListe1\n",
        "Datasetintermediairesite1[\"NIR_BAND\"] = NIRListe1\n",
        "Datasetintermediairesite1[\"SWIR1_BAND\"] = SWIR1Liste1\n",
        "Datasetintermediairesite1[\"SWIR2_BAND\"] = SWIR2Liste1\n",
        "Datasetintermediairesite1[\"Date\"] = Datetime1\n",
        "Datasetintermediairesite1[\"Hourtime\"] = Hourtime1\n",
        "Datasetintermediairesite1[\"Date\"] = pd.to_datetime(Datetime1, format='%Y-%m-%d', errors='ignore')"
      ],
      "execution_count": 50,
      "outputs": []
    },
    {
      "cell_type": "code",
      "metadata": {
        "id": "WtMFXbFlDp50"
      },
      "source": [
        "Datasetintermediairesite2[\"NDVI\"] = NDVIListe2\n",
        "Datasetintermediairesite2[\"NDWI\"] = NDWIListe2\n",
        "Datasetintermediairesite2[\"SAVI\"] = SAVIListe2\n",
        "Datasetintermediairesite2[\"BLUE_BAND\"] = BLUEListe2\n",
        "Datasetintermediairesite2[\"GREEN_BAND\"] = GREENListe2\n",
        "Datasetintermediairesite2[\"RED_BAND\"] = REDListe2 \n",
        "Datasetintermediairesite2[\"NIR_BAND\"] = NIRListe2\n",
        "Datasetintermediairesite2[\"SWIR1_BAND\"] = SWIR1Liste2\n",
        "Datasetintermediairesite2[\"SWIR2_BAND\"] = SWIR2Liste2\n",
        "Datasetintermediairesite2[\"Date\"] = Datetime2\n",
        "Datasetintermediairesite2[\"Hourtime\"] = Hourtime2\n",
        "Datasetintermediairesite2[\"Date\"] = pd.to_datetime(Datetime2, format='%Y-%m-%d', errors='ignore')"
      ],
      "execution_count": 51,
      "outputs": []
    },
    {
      "cell_type": "code",
      "metadata": {
        "id": "x6U6Ump7EAYe"
      },
      "source": [
        "Datasetintermediairesite3[\"NDVI\"] = NDVIListe3\n",
        "Datasetintermediairesite3[\"NDWI\"] = NDWIListe3\n",
        "Datasetintermediairesite3[\"SAVI\"] = SAVIListe3\n",
        "Datasetintermediairesite3[\"BLUE_BAND\"] = BLUEListe3\n",
        "Datasetintermediairesite3[\"GREEN_BAND\"] = GREENListe3\n",
        "Datasetintermediairesite3[\"RED_BAND\"] = REDListe3 \n",
        "Datasetintermediairesite3[\"NIR_BAND\"] = NIRListe3\n",
        "Datasetintermediairesite3[\"SWIR1_BAND\"] = SWIR1Liste3\n",
        "Datasetintermediairesite3[\"SWIR2_BAND\"] = SWIR2Liste3\n",
        "Datasetintermediairesite3[\"Date\"] = Datetime3\n",
        "Datasetintermediairesite3[\"Hourtime\"] = Hourtime3\n",
        "Datasetintermediairesite3[\"Date\"] = pd.to_datetime(Datetime3, format='%Y-%m-%d', errors='ignore')"
      ],
      "execution_count": 52,
      "outputs": []
    },
    {
      "cell_type": "code",
      "metadata": {
        "id": "dsl1DkK358EQ"
      },
      "source": [
        "Datasetintermediairesite1[\"Leaf_Area_index\"] = [2.88 * x + 1.14 * (1 + 0.104 * math.exp(4.1 * x)) for x in NDWIListe1]\n",
        "Datasetintermediairesite2[\"Leaf_Area_index\"] = [2.88 * x + 1.14 * (1 + 0.104 * math.exp(4.1 * x)) for x in NDWIListe2]\n",
        "Datasetintermediairesite3[\"Leaf_Area_index\"] = [2.88 * x + 1.14 * (1 + 0.104 * math.exp(4.1 * x)) for x in NDWIListe3]"
      ],
      "execution_count": null,
      "outputs": []
    },
    {
      "cell_type": "code",
      "metadata": {
        "id": "l3M5Xq2sHtpJ"
      },
      "source": [
        "weatherdata = pd.read_excel('/content/drive/MyDrive/stage_agriedge/weatherdata.xlsx', index_col=0)  "
      ],
      "execution_count": 59,
      "outputs": []
    },
    {
      "cell_type": "code",
      "metadata": {
        "colab": {
          "base_uri": "https://localhost:8080/",
          "height": 349
        },
        "id": "oVhgT4fWIU1w",
        "outputId": "062bc419-2441-4032-9b7a-3461f3f65cb0"
      },
      "source": [
        "weatherdata.head(2)"
      ],
      "execution_count": 61,
      "outputs": [
        {
          "output_type": "execute_result",
          "data": {
            "text/html": [
              "<div>\n",
              "<style scoped>\n",
              "    .dataframe tbody tr th:only-of-type {\n",
              "        vertical-align: middle;\n",
              "    }\n",
              "\n",
              "    .dataframe tbody tr th {\n",
              "        vertical-align: top;\n",
              "    }\n",
              "\n",
              "    .dataframe thead th {\n",
              "        text-align: right;\n",
              "    }\n",
              "</style>\n",
              "<table border=\"1\" class=\"dataframe\">\n",
              "  <thead>\n",
              "    <tr style=\"text-align: right;\">\n",
              "      <th></th>\n",
              "      <th>Date time</th>\n",
              "      <th>Maximum Temperature</th>\n",
              "      <th>Minimum Temperature</th>\n",
              "      <th>Temperature</th>\n",
              "      <th>Wind Chill</th>\n",
              "      <th>Heat Index</th>\n",
              "      <th>Precipitation</th>\n",
              "      <th>Snow</th>\n",
              "      <th>Snow Depth</th>\n",
              "      <th>Wind Speed</th>\n",
              "      <th>Wind Direction</th>\n",
              "      <th>Wind Gust</th>\n",
              "      <th>Visibility</th>\n",
              "      <th>Cloud Cover</th>\n",
              "      <th>Relative Humidity</th>\n",
              "      <th>Conditions</th>\n",
              "    </tr>\n",
              "    <tr>\n",
              "      <th>Name</th>\n",
              "      <th></th>\n",
              "      <th></th>\n",
              "      <th></th>\n",
              "      <th></th>\n",
              "      <th></th>\n",
              "      <th></th>\n",
              "      <th></th>\n",
              "      <th></th>\n",
              "      <th></th>\n",
              "      <th></th>\n",
              "      <th></th>\n",
              "      <th></th>\n",
              "      <th></th>\n",
              "      <th></th>\n",
              "      <th></th>\n",
              "      <th></th>\n",
              "    </tr>\n",
              "  </thead>\n",
              "  <tbody>\n",
              "    <tr>\n",
              "      <th>بن جرير, مراكش - آسفي, المغرب</th>\n",
              "      <td>04/01/2020 00:00:00</td>\n",
              "      <td>15.0</td>\n",
              "      <td>15.0</td>\n",
              "      <td>15.0</td>\n",
              "      <td>NaN</td>\n",
              "      <td>NaN</td>\n",
              "      <td>0.0</td>\n",
              "      <td>NaN</td>\n",
              "      <td>NaN</td>\n",
              "      <td>13.0</td>\n",
              "      <td>270.0</td>\n",
              "      <td>NaN</td>\n",
              "      <td>8.0</td>\n",
              "      <td>89.0</td>\n",
              "      <td>72.03</td>\n",
              "      <td>Overcast</td>\n",
              "    </tr>\n",
              "    <tr>\n",
              "      <th>بن جرير, مراكش - آسفي, المغرب</th>\n",
              "      <td>04/01/2020 01:00:00</td>\n",
              "      <td>13.9</td>\n",
              "      <td>13.9</td>\n",
              "      <td>13.9</td>\n",
              "      <td>NaN</td>\n",
              "      <td>NaN</td>\n",
              "      <td>0.0</td>\n",
              "      <td>NaN</td>\n",
              "      <td>NaN</td>\n",
              "      <td>15.9</td>\n",
              "      <td>275.0</td>\n",
              "      <td>NaN</td>\n",
              "      <td>8.0</td>\n",
              "      <td>74.3</td>\n",
              "      <td>81.33</td>\n",
              "      <td>Partially cloudy</td>\n",
              "    </tr>\n",
              "  </tbody>\n",
              "</table>\n",
              "</div>"
            ],
            "text/plain": [
              "                                         Date time  ...        Conditions\n",
              "Name                                                ...                  \n",
              "بن جرير, مراكش - آسفي, المغرب  04/01/2020 00:00:00  ...          Overcast\n",
              "بن جرير, مراكش - آسفي, المغرب  04/01/2020 01:00:00  ...  Partially cloudy\n",
              "\n",
              "[2 rows x 16 columns]"
            ]
          },
          "metadata": {
            "tags": []
          },
          "execution_count": 61
        }
      ]
    },
    {
      "cell_type": "markdown",
      "metadata": {
        "id": "VttM-R1V99O9"
      },
      "source": [
        ""
      ]
    },
    {
      "cell_type": "code",
      "metadata": {
        "id": "62tKaewcIoVj"
      },
      "source": [
        "date2 = []\n",
        "hourtime2 = []\n",
        "date2 = [x[:10] for x in weatherdata[\"Date time\"]]\n",
        "hourtime2 = [x[11:] for x in weatherdata[\"Date time\"]]\n",
        "date2 = [x.replace('/', '-') for x in date2]\n",
        "date2 = [ x[6:] + '-' + x[:2] + '-' + x[3:5] for x in date2 ]\n",
        "weatherdata[\"Date\"] = pd.to_datetime(date2, format='%Y-%m-%d', errors='ignore')\n",
        "weatherdata['Hour'] = hourtime2"
      ],
      "execution_count": 62,
      "outputs": []
    },
    {
      "cell_type": "code",
      "metadata": {
        "colab": {
          "base_uri": "https://localhost:8080/",
          "height": 349
        },
        "id": "BIUCxUTyKBGm",
        "outputId": "5e3b5e0f-c625-452a-ae21-0b3d4c566060"
      },
      "source": [
        "weatherdata = weatherdata.drop(columns='Date time', axis = 1)\n",
        "weatherdata.head(2)"
      ],
      "execution_count": 63,
      "outputs": [
        {
          "output_type": "execute_result",
          "data": {
            "text/html": [
              "<div>\n",
              "<style scoped>\n",
              "    .dataframe tbody tr th:only-of-type {\n",
              "        vertical-align: middle;\n",
              "    }\n",
              "\n",
              "    .dataframe tbody tr th {\n",
              "        vertical-align: top;\n",
              "    }\n",
              "\n",
              "    .dataframe thead th {\n",
              "        text-align: right;\n",
              "    }\n",
              "</style>\n",
              "<table border=\"1\" class=\"dataframe\">\n",
              "  <thead>\n",
              "    <tr style=\"text-align: right;\">\n",
              "      <th></th>\n",
              "      <th>Maximum Temperature</th>\n",
              "      <th>Minimum Temperature</th>\n",
              "      <th>Temperature</th>\n",
              "      <th>Wind Chill</th>\n",
              "      <th>Heat Index</th>\n",
              "      <th>Precipitation</th>\n",
              "      <th>Snow</th>\n",
              "      <th>Snow Depth</th>\n",
              "      <th>Wind Speed</th>\n",
              "      <th>Wind Direction</th>\n",
              "      <th>Wind Gust</th>\n",
              "      <th>Visibility</th>\n",
              "      <th>Cloud Cover</th>\n",
              "      <th>Relative Humidity</th>\n",
              "      <th>Conditions</th>\n",
              "      <th>Date</th>\n",
              "      <th>Hour</th>\n",
              "    </tr>\n",
              "    <tr>\n",
              "      <th>Name</th>\n",
              "      <th></th>\n",
              "      <th></th>\n",
              "      <th></th>\n",
              "      <th></th>\n",
              "      <th></th>\n",
              "      <th></th>\n",
              "      <th></th>\n",
              "      <th></th>\n",
              "      <th></th>\n",
              "      <th></th>\n",
              "      <th></th>\n",
              "      <th></th>\n",
              "      <th></th>\n",
              "      <th></th>\n",
              "      <th></th>\n",
              "      <th></th>\n",
              "      <th></th>\n",
              "    </tr>\n",
              "  </thead>\n",
              "  <tbody>\n",
              "    <tr>\n",
              "      <th>بن جرير, مراكش - آسفي, المغرب</th>\n",
              "      <td>15.0</td>\n",
              "      <td>15.0</td>\n",
              "      <td>15.0</td>\n",
              "      <td>NaN</td>\n",
              "      <td>NaN</td>\n",
              "      <td>0.0</td>\n",
              "      <td>NaN</td>\n",
              "      <td>NaN</td>\n",
              "      <td>13.0</td>\n",
              "      <td>270.0</td>\n",
              "      <td>NaN</td>\n",
              "      <td>8.0</td>\n",
              "      <td>89.0</td>\n",
              "      <td>72.03</td>\n",
              "      <td>Overcast</td>\n",
              "      <td>2020-04-01</td>\n",
              "      <td>00:00:00</td>\n",
              "    </tr>\n",
              "    <tr>\n",
              "      <th>بن جرير, مراكش - آسفي, المغرب</th>\n",
              "      <td>13.9</td>\n",
              "      <td>13.9</td>\n",
              "      <td>13.9</td>\n",
              "      <td>NaN</td>\n",
              "      <td>NaN</td>\n",
              "      <td>0.0</td>\n",
              "      <td>NaN</td>\n",
              "      <td>NaN</td>\n",
              "      <td>15.9</td>\n",
              "      <td>275.0</td>\n",
              "      <td>NaN</td>\n",
              "      <td>8.0</td>\n",
              "      <td>74.3</td>\n",
              "      <td>81.33</td>\n",
              "      <td>Partially cloudy</td>\n",
              "      <td>2020-04-01</td>\n",
              "      <td>01:00:00</td>\n",
              "    </tr>\n",
              "  </tbody>\n",
              "</table>\n",
              "</div>"
            ],
            "text/plain": [
              "                               Maximum Temperature  ...      Hour\n",
              "Name                                                ...          \n",
              "بن جرير, مراكش - آسفي, المغرب                 15.0  ...  00:00:00\n",
              "بن جرير, مراكش - آسفي, المغرب                 13.9  ...  01:00:00\n",
              "\n",
              "[2 rows x 17 columns]"
            ]
          },
          "metadata": {
            "tags": []
          },
          "execution_count": 63
        }
      ]
    },
    {
      "cell_type": "code",
      "metadata": {
        "id": "ddJnw6iePMEz"
      },
      "source": [
        "Datasetintermediairesite11 = pd.merge(Datasetintermediairesite1,weatherdata[weatherdata[\"Hour\"]==\"11:00:00\"][[\"Temperature\", \"Precipitation\", \"Date\"]], on='Date',suffixes=('_dataset', ''))\n",
        "Datasetintermediairesite22 = pd.merge(Datasetintermediairesite2,weatherdata[weatherdata[\"Hour\"]==\"11:00:00\"][[\"Temperature\", \"Precipitation\", \"Date\"]], on='Date',suffixes=('_dataset', ''))\n",
        "Datasetintermediairesite33 = pd.merge(Datasetintermediairesite3,weatherdata[weatherdata[\"Hour\"]==\"11:00:00\"][[\"Temperature\", \"Precipitation\", \"Date\"]], on='Date',suffixes=('_dataset', ''))"
      ],
      "execution_count": 64,
      "outputs": []
    },
    {
      "cell_type": "code",
      "metadata": {
        "colab": {
          "base_uri": "https://localhost:8080/",
          "height": 213
        },
        "id": "sSkJp7ZcQWeD",
        "outputId": "0bde1ca0-6638-48c7-c142-bed7528e774f"
      },
      "source": [
        "Datasetintermediairesite33.head(3)"
      ],
      "execution_count": 69,
      "outputs": [
        {
          "output_type": "execute_result",
          "data": {
            "text/html": [
              "<div>\n",
              "<style scoped>\n",
              "    .dataframe tbody tr th:only-of-type {\n",
              "        vertical-align: middle;\n",
              "    }\n",
              "\n",
              "    .dataframe tbody tr th {\n",
              "        vertical-align: top;\n",
              "    }\n",
              "\n",
              "    .dataframe thead th {\n",
              "        text-align: right;\n",
              "    }\n",
              "</style>\n",
              "<table border=\"1\" class=\"dataframe\">\n",
              "  <thead>\n",
              "    <tr style=\"text-align: right;\">\n",
              "      <th></th>\n",
              "      <th>Hourtime</th>\n",
              "      <th>Date</th>\n",
              "      <th>Soil_temperature</th>\n",
              "      <th>BLUE_BAND</th>\n",
              "      <th>GREEN_BAND</th>\n",
              "      <th>RED_BAND</th>\n",
              "      <th>NIR_BAND</th>\n",
              "      <th>SWIR1_BAND</th>\n",
              "      <th>SWIR2_BAND</th>\n",
              "      <th>NDVI</th>\n",
              "      <th>NDWI</th>\n",
              "      <th>SAVI</th>\n",
              "      <th>Leaf_Area_index</th>\n",
              "      <th>Land_surface_temperature</th>\n",
              "      <th>Volumetric_Soil_Moisture</th>\n",
              "      <th>Temperature</th>\n",
              "      <th>Precipitation</th>\n",
              "    </tr>\n",
              "  </thead>\n",
              "  <tbody>\n",
              "    <tr>\n",
              "      <th>0</th>\n",
              "      <td>11:00</td>\n",
              "      <td>2020-04-06</td>\n",
              "      <td>NaN</td>\n",
              "      <td>468.5</td>\n",
              "      <td>834.0</td>\n",
              "      <td>1189.5</td>\n",
              "      <td>1840.0</td>\n",
              "      <td>1789.5</td>\n",
              "      <td>1281.0</td>\n",
              "      <td>0.215909</td>\n",
              "      <td>0.016975</td>\n",
              "      <td>0.323809</td>\n",
              "      <td>1.315994</td>\n",
              "      <td>NaN</td>\n",
              "      <td>NaN</td>\n",
              "      <td>21.0</td>\n",
              "      <td>0.0</td>\n",
              "    </tr>\n",
              "    <tr>\n",
              "      <th>1</th>\n",
              "      <td>11:00</td>\n",
              "      <td>2020-04-22</td>\n",
              "      <td>NaN</td>\n",
              "      <td>844.0</td>\n",
              "      <td>1349.0</td>\n",
              "      <td>1939.5</td>\n",
              "      <td>3154.0</td>\n",
              "      <td>3657.0</td>\n",
              "      <td>2943.0</td>\n",
              "      <td>0.238484</td>\n",
              "      <td>-0.073828</td>\n",
              "      <td>0.357691</td>\n",
              "      <td>1.014971</td>\n",
              "      <td>NaN</td>\n",
              "      <td>NaN</td>\n",
              "      <td>19.0</td>\n",
              "      <td>0.0</td>\n",
              "    </tr>\n",
              "    <tr>\n",
              "      <th>2</th>\n",
              "      <td>11:00</td>\n",
              "      <td>2020-05-08</td>\n",
              "      <td>NaN</td>\n",
              "      <td>841.5</td>\n",
              "      <td>1355.5</td>\n",
              "      <td>1887.5</td>\n",
              "      <td>3087.5</td>\n",
              "      <td>3625.5</td>\n",
              "      <td>2966.0</td>\n",
              "      <td>0.241206</td>\n",
              "      <td>-0.080141</td>\n",
              "      <td>0.361773</td>\n",
              "      <td>0.994552</td>\n",
              "      <td>NaN</td>\n",
              "      <td>NaN</td>\n",
              "      <td>22.0</td>\n",
              "      <td>0.0</td>\n",
              "    </tr>\n",
              "  </tbody>\n",
              "</table>\n",
              "</div>"
            ],
            "text/plain": [
              "  Hourtime       Date  ... Temperature  Precipitation\n",
              "0    11:00 2020-04-06  ...        21.0            0.0\n",
              "1    11:00 2020-04-22  ...        19.0            0.0\n",
              "2    11:00 2020-05-08  ...        22.0            0.0\n",
              "\n",
              "[3 rows x 17 columns]"
            ]
          },
          "metadata": {
            "tags": []
          },
          "execution_count": 69
        }
      ]
    },
    {
      "cell_type": "code",
      "metadata": {
        "id": "n-zgMJm_RX_g"
      },
      "source": [
        "Datasetintermediairesite11 = Datasetintermediairesite11.drop([\"Air_temperature\", \"Precipitation_dataset\"], axis = 1)\n",
        "Datasetintermediairesite22 = Datasetintermediairesite22.drop([\"Air_temperature\", \"Precipitation_dataset\"], axis = 1)\n",
        "Datasetintermediairesite33 = Datasetintermediairesite33.drop([\"Air_temperature\", \"Precipitation_dataset\"], axis = 1)"
      ],
      "execution_count": 67,
      "outputs": []
    },
    {
      "cell_type": "code",
      "metadata": {
        "colab": {
          "base_uri": "https://localhost:8080/",
          "height": 213
        },
        "id": "yLV18cvxRhiJ",
        "outputId": "7d72a32e-1e9d-402d-bd62-2695d00ecfef"
      },
      "source": [
        "Datasetintermediairesite11.head(3)"
      ],
      "execution_count": 68,
      "outputs": [
        {
          "output_type": "execute_result",
          "data": {
            "text/html": [
              "<div>\n",
              "<style scoped>\n",
              "    .dataframe tbody tr th:only-of-type {\n",
              "        vertical-align: middle;\n",
              "    }\n",
              "\n",
              "    .dataframe tbody tr th {\n",
              "        vertical-align: top;\n",
              "    }\n",
              "\n",
              "    .dataframe thead th {\n",
              "        text-align: right;\n",
              "    }\n",
              "</style>\n",
              "<table border=\"1\" class=\"dataframe\">\n",
              "  <thead>\n",
              "    <tr style=\"text-align: right;\">\n",
              "      <th></th>\n",
              "      <th>Hourtime</th>\n",
              "      <th>Date</th>\n",
              "      <th>Soil_temperature</th>\n",
              "      <th>BLUE_BAND</th>\n",
              "      <th>GREEN_BAND</th>\n",
              "      <th>RED_BAND</th>\n",
              "      <th>NIR_BAND</th>\n",
              "      <th>SWIR1_BAND</th>\n",
              "      <th>SWIR2_BAND</th>\n",
              "      <th>NDVI</th>\n",
              "      <th>NDWI</th>\n",
              "      <th>SAVI</th>\n",
              "      <th>Leaf_Area_index</th>\n",
              "      <th>Land_surface_temperature</th>\n",
              "      <th>Volumetric_Soil_Moisture</th>\n",
              "      <th>Temperature</th>\n",
              "      <th>Precipitation</th>\n",
              "    </tr>\n",
              "  </thead>\n",
              "  <tbody>\n",
              "    <tr>\n",
              "      <th>0</th>\n",
              "      <td>11:00</td>\n",
              "      <td>2020-04-06</td>\n",
              "      <td>NaN</td>\n",
              "      <td>254.8</td>\n",
              "      <td>521.8</td>\n",
              "      <td>671.4</td>\n",
              "      <td>1244.6</td>\n",
              "      <td>1029.0</td>\n",
              "      <td>690.6</td>\n",
              "      <td>0.299333</td>\n",
              "      <td>0.094882</td>\n",
              "      <td>0.448880</td>\n",
              "      <td>1.588200</td>\n",
              "      <td>NaN</td>\n",
              "      <td>NaN</td>\n",
              "      <td>21.0</td>\n",
              "      <td>0.0</td>\n",
              "    </tr>\n",
              "    <tr>\n",
              "      <th>1</th>\n",
              "      <td>11:00</td>\n",
              "      <td>2020-04-22</td>\n",
              "      <td>NaN</td>\n",
              "      <td>771.0</td>\n",
              "      <td>1267.2</td>\n",
              "      <td>1667.2</td>\n",
              "      <td>3396.0</td>\n",
              "      <td>3404.4</td>\n",
              "      <td>2627.6</td>\n",
              "      <td>0.342002</td>\n",
              "      <td>-0.000574</td>\n",
              "      <td>0.512952</td>\n",
              "      <td>1.256629</td>\n",
              "      <td>NaN</td>\n",
              "      <td>NaN</td>\n",
              "      <td>19.0</td>\n",
              "      <td>0.0</td>\n",
              "    </tr>\n",
              "    <tr>\n",
              "      <th>2</th>\n",
              "      <td>11:00</td>\n",
              "      <td>2020-05-08</td>\n",
              "      <td>NaN</td>\n",
              "      <td>763.6</td>\n",
              "      <td>1268.0</td>\n",
              "      <td>1681.6</td>\n",
              "      <td>3206.2</td>\n",
              "      <td>3280.6</td>\n",
              "      <td>2521.4</td>\n",
              "      <td>0.312727</td>\n",
              "      <td>-0.010980</td>\n",
              "      <td>0.469042</td>\n",
              "      <td>1.221720</td>\n",
              "      <td>NaN</td>\n",
              "      <td>NaN</td>\n",
              "      <td>22.0</td>\n",
              "      <td>0.0</td>\n",
              "    </tr>\n",
              "  </tbody>\n",
              "</table>\n",
              "</div>"
            ],
            "text/plain": [
              "  Hourtime       Date  ... Temperature  Precipitation\n",
              "0    11:00 2020-04-06  ...        21.0            0.0\n",
              "1    11:00 2020-04-22  ...        19.0            0.0\n",
              "2    11:00 2020-05-08  ...        22.0            0.0\n",
              "\n",
              "[3 rows x 17 columns]"
            ]
          },
          "metadata": {
            "tags": []
          },
          "execution_count": 68
        }
      ]
    },
    {
      "cell_type": "code",
      "metadata": {
        "id": "KWMx62dil32r"
      },
      "source": [
        "capteurdata11 = pd.read_csv(\"/content/drive/MyDrive/stage_agriedge/site1/mars.csv\", sep=\";\")\n",
        "capteurdata12 = pd.read_csv(\"/content/drive/MyDrive/stage_agriedge/site1/mai.csv\", sep=\";\")\n",
        "capteurdata13 = pd.read_csv(\"/content/drive/MyDrive/stage_agriedge/site1/juin.csv\", sep=\";\")\n",
        "capteurdata14 = pd.read_csv(\"/content/drive/MyDrive/stage_agriedge/site1/juillet.csv\", sep=\";\")\n",
        "capteurdata15 = pd.read_csv(\"/content/drive/MyDrive/stage_agriedge/site1/aout.csv\", sep=\";\")\n",
        "capteurdata16 = pd.read_csv(\"/content/drive/MyDrive/stage_agriedge/site1/septembre.csv\", sep=\";\")\n",
        "capteurdata17 = pd.read_csv(\"/content/drive/MyDrive/stage_agriedge/site1/octobre.csv\", sep=\";\")\n",
        "capteurdata18 = pd.read_csv(\"/content/drive/MyDrive/stage_agriedge/site1/novembre.csv\", sep=\";\")\n",
        "capteurdata19 = pd.read_csv(\"/content/drive/MyDrive/stage_agriedge/site1/decembre.csv\", sep=\";\")\n",
        "capteurdata110 = pd.read_csv(\"/content/drive/MyDrive/stage_agriedge/site1/janvier2021.csv\", sep=\";\")\n",
        "capteurdata111 = pd.read_csv(\"/content/drive/MyDrive/stage_agriedge/site1/fevrier2021.csv\", sep=\";\")"
      ],
      "execution_count": 70,
      "outputs": []
    },
    {
      "cell_type": "code",
      "metadata": {
        "id": "TjMGPrdNJ9bA"
      },
      "source": [
        "capteurdata21 = pd.read_csv(\"/content/drive/MyDrive/stage_agriedge/site2/mars.csv\", sep=\";\")\n",
        "capteurdata22 = pd.read_csv(\"/content/drive/MyDrive/stage_agriedge/site2/mai.csv\", sep=\";\")\n",
        "capteurdata23 = pd.read_csv(\"/content/drive/MyDrive/stage_agriedge/site2/juin.csv\", sep=\";\")\n",
        "capteurdata24 = pd.read_csv(\"/content/drive/MyDrive/stage_agriedge/site2/juillet.csv\", sep=\";\")\n",
        "capteurdata25 = pd.read_csv(\"/content/drive/MyDrive/stage_agriedge/site2/aout.csv\", sep=\";\")\n",
        "capteurdata26 = pd.read_csv(\"/content/drive/MyDrive/stage_agriedge/site2/septembre.csv\", sep=\";\")\n",
        "capteurdata27 = pd.read_csv(\"/content/drive/MyDrive/stage_agriedge/site2/octobre.csv\", sep=\";\")\n",
        "capteurdata28 = pd.read_csv(\"/content/drive/MyDrive/stage_agriedge/site2/novembre.csv\", sep=\";\")\n",
        "capteurdata29 = pd.read_csv(\"/content/drive/MyDrive/stage_agriedge/site2/decembre.csv\", sep=\";\")\n",
        "capteurdata210 = pd.read_csv(\"/content/drive/MyDrive/stage_agriedge/site2/janvier2021.csv\", sep=\";\")\n",
        "capteurdata211 = pd.read_csv(\"/content/drive/MyDrive/stage_agriedge/site2/fevrier2021.csv\", sep=\";\")"
      ],
      "execution_count": null,
      "outputs": []
    },
    {
      "cell_type": "code",
      "metadata": {
        "id": "-61Sh_CFKjFr"
      },
      "source": [
        "capteurdata31 = pd.read_csv(\"/content/drive/MyDrive/stage_agriedge/site3/mars.csv\", sep=\";\")\n",
        "capteurdata32 = pd.read_csv(\"/content/drive/MyDrive/stage_agriedge/site3/mai.csv\", sep=\";\")\n",
        "capteurdata33 = pd.read_csv(\"/content/drive/MyDrive/stage_agriedge/site3/juin.csv\", sep=\";\")\n",
        "capteurdata34 = pd.read_csv(\"/content/drive/MyDrive/stage_agriedge/site3/juillet.csv\", sep=\";\")\n",
        "capteurdata35 = pd.read_csv(\"/content/drive/MyDrive/stage_agriedge/site3/aout.csv\", sep=\";\")\n",
        "capteurdata36 = pd.read_csv(\"/content/drive/MyDrive/stage_agriedge/site3/septembre.csv\", sep=\";\")\n",
        "capteurdata37 = pd.read_csv(\"/content/drive/MyDrive/stage_agriedge/site3/octobre.csv\", sep=\";\")\n",
        "capteurdata38 = pd.read_csv(\"/content/drive/MyDrive/stage_agriedge/site3/novembre.csv\", sep=\";\")\n",
        "capteurdata39 = pd.read_csv(\"/content/drive/MyDrive/stage_agriedge/site3/decembre.csv\", sep=\";\")\n",
        "capteurdata310 = pd.read_csv(\"/content/drive/MyDrive/stage_agriedge/site3/janvier2021.csv\", sep=\";\")\n",
        "capteurdata311 = pd.read_csv(\"/content/drive/MyDrive/stage_agriedge/site3/fevrier2021.csv\", sep=\";\")"
      ],
      "execution_count": null,
      "outputs": []
    },
    {
      "cell_type": "code",
      "metadata": {
        "id": "iu93hWHgraFf"
      },
      "source": [
        "capteurdata11[\"rpi_timestamp\"] = [x.replace('T', '') for x in  capteurdata11[\"rpi_timestamp\"]]\n",
        "capteurdata11[\"Date\"] = [ x[0:10] for x in capteurdata11[\"rpi_timestamp\"] ]\n",
        "capteurdata11[\"Hour\"] = [ x[10:15] for x in capteurdata11[\"rpi_timestamp\"] ]\n",
        "capteurdata11.drop([\"rpi_timestamp\"], axis = 1)\n",
        "\n",
        "capteurdata12[\"rpi_timestamp\"] = [x.replace('T', '') for x in  capteurdata12[\"rpi_timestamp\"]]\n",
        "capteurdata12[\"Date\"] = [ x[0:10] for x in capteurdata12[\"rpi_timestamp\"] ]\n",
        "capteurdata12[\"Hour\"] = [ x[10:15] for x in capteurdata12[\"rpi_timestamp\"] ]\n",
        "capteurdata12.drop([\"rpi_timestamp\"], axis = 1)\n",
        "\n",
        "capteurdata13[\"rpi_timestamp\"] = [x.replace('T', '') for x in  capteurdata13[\"rpi_timestamp\"]]\n",
        "capteurdata13[\"Date\"] = [ x[0:10] for x in capteurdata13[\"rpi_timestamp\"] ]\n",
        "capteurdata13[\"Hour\"] = [ x[10:15] for x in capteurdata13[\"rpi_timestamp\"] ]\n",
        "capteurdata13.drop([\"rpi_timestamp\"], axis = 1)\n",
        "\n",
        "capteurdata14[\"rpi_timestamp\"] = [x.replace('T', '') for x in  capteurdata14[\"rpi_timestamp\"]]\n",
        "capteurdata14[\"Date\"] = [ x[0:10] for x in capteurdata14[\"rpi_timestamp\"] ]\n",
        "capteurdata14[\"Hour\"] = [ x[10:15] for x in capteurdata14[\"rpi_timestamp\"] ]\n",
        "capteurdata14.drop([\"rpi_timestamp\"], axis = 1)\n",
        "\n",
        "capteurdata15[\"rpi_timestamp\"] = [x.replace('T', '') for x in  capteurdata15[\"rpi_timestamp\"]]\n",
        "capteurdata15[\"Date\"] = [ x[0:10] for x in capteurdata15[\"rpi_timestamp\"] ]\n",
        "capteurdata15[\"Hour\"] = [ x[10:15] for x in capteurdata15[\"rpi_timestamp\"] ]\n",
        "capteurdata15.drop([\"rpi_timestamp\"], axis = 1)\n",
        "\n",
        "capteurdata16[\"rpi_timestamp\"] = [x.replace('T', '') for x in  capteurdata16[\"rpi_timestamp\"]]\n",
        "capteurdata16[\"Date\"] = [ x[0:10] for x in capteurdata16[\"rpi_timestamp\"] ]\n",
        "capteurdata16[\"Hour\"] = [ x[10:15] for x in capteurdata16[\"rpi_timestamp\"] ]\n",
        "capteurdata16.drop([\"rpi_timestamp\"], axis = 1)\n",
        "\n",
        "capteurdata17[\"rpi_timestamp\"] = [x.replace('T', '') for x in  capteurdata17[\"rpi_timestamp\"]]\n",
        "capteurdata17[\"Date\"] = [ x[0:10] for x in capteurdata17[\"rpi_timestamp\"] ]\n",
        "capteurdata17[\"Hour\"] = [ x[10:15] for x in capteurdata17[\"rpi_timestamp\"] ]\n",
        "capteurdata17.drop([\"rpi_timestamp\"], axis = 1)\n",
        "\n",
        "capteurdata18[\"rpi_timestamp\"] = [x.replace('T', '') for x in  capteurdata18[\"rpi_timestamp\"]]\n",
        "capteurdata18[\"Date\"] = [ x[0:10] for x in capteurdata18[\"rpi_timestamp\"] ]\n",
        "capteurdata18[\"Hour\"] = [ x[10:15] for x in capteurdata18[\"rpi_timestamp\"] ]\n",
        "capteurdata18.drop([\"rpi_timestamp\"], axis = 1)\n",
        "\n",
        "capteurdata19[\"rpi_timestamp\"] = [x.replace('T', '') for x in  capteurdata19[\"rpi_timestamp\"]]\n",
        "capteurdata19[\"Date\"] = [ x[0:10] for x in capteurdata19[\"rpi_timestamp\"] ]\n",
        "capteurdata19[\"Hour\"] = [ x[10:15] for x in capteurdata19[\"rpi_timestamp\"] ]\n",
        "capteurdata19.drop([\"rpi_timestamp\"], axis = 1)\n",
        "\n",
        "capteurdata110[\"rpi_timestamp\"] = [x.replace('T', '') for x in  capteurdata110[\"rpi_timestamp\"]]\n",
        "capteurdata110[\"Date\"] = [ x[0:10] for x in capteurdata110[\"rpi_timestamp\"] ]\n",
        "capteurdata110[\"Hour\"] = [ x[10:15] for x in capteurdata110[\"rpi_timestamp\"] ]\n",
        "capteurdata110.drop([\"rpi_timestamp\"], axis = 1)\n",
        "\n",
        "capteurdata111[\"rpi_timestamp\"] = [x.replace('T', '') for x in  capteurdata111[\"rpi_timestamp\"]]\n",
        "capteurdata111[\"Date\"] = [ x[0:10] for x in capteurdata111[\"rpi_timestamp\"] ]\n",
        "capteurdata111[\"Hour\"] = [ x[10:15] for x in capteurdata111[\"rpi_timestamp\"] ]\n",
        "capteurdata111.drop([\"rpi_timestamp\"], axis = 1)"
      ],
      "execution_count": null,
      "outputs": []
    },
    {
      "cell_type": "code",
      "metadata": {
        "id": "sqTK8euVDzPR"
      },
      "source": [
        "datasetcapteursite1 = pd.concat([capteurdata11,capteurdata12, capteurdata13, capteurdata14, capteurdata15, capteurdata16, \n",
        "                            capteurdata17, capteurdata18, capteurdata19, capteurdata110, capteurdata111],ignore_index=True)"
      ],
      "execution_count": null,
      "outputs": []
    },
    {
      "cell_type": "code",
      "metadata": {
        "id": "i5zy7sS2L63c"
      },
      "source": [
        "datasetcapteursite2 = pd.concat([capteurdata21,capteurdata22, capteurdata23, capteurdata24, capteurdata25, capteurdata26, \n",
        "                            capteurdata27, capteurdata28, capteurdata29, capteurdata210, capteurdata211],ignore_index=True)"
      ],
      "execution_count": null,
      "outputs": []
    },
    {
      "cell_type": "code",
      "metadata": {
        "id": "77QvmUoPMFdl"
      },
      "source": [
        "datasetcapteursite3 = pd.concat([capteurdata31,capteurdata32, capteurdata33, capteurdata34, capteurdata35, capteurdata36, \n",
        "                            capteurdata37, capteurdata38, capteurdata39, capteurdata310, capteurdata311],ignore_index=True)"
      ],
      "execution_count": null,
      "outputs": []
    },
    {
      "cell_type": "code",
      "metadata": {
        "id": "NuM9qg1RBy8l"
      },
      "source": [
        "Date1 = datasetcapteur[\"Date\"]\n",
        "datasetcapteur[\"Date\"] = pd.to_datetime(Date1, format='%Y-%m-%d', errors='ignore')\n",
        "new_data_regression = pd.merge(new_data, datasetcapteur[datasetcapteur[\"Hour\"]==\"11:00\"][[\"soil_temperature\", \"Date\"]], on='Date',suffixes=('_dataset', ''))"
      ],
      "execution_count": null,
      "outputs": []
    },
    {
      "cell_type": "code",
      "metadata": {
        "id": "YIaMystnECOR"
      },
      "source": [
        "new_data_regression.head()"
      ],
      "execution_count": null,
      "outputs": []
    },
    {
      "cell_type": "code",
      "metadata": {
        "id": "rNxfQpSpj271"
      },
      "source": [
        "\n",
        "y = target\n",
        "X = diabetes\n",
        "# setting up testing and training sets\n",
        "X_train, X_test, y_train, y_test = train_test_split(X, y, test_size=0.25, random_state=27)"
      ],
      "execution_count": null,
      "outputs": []
    }
  ]
}